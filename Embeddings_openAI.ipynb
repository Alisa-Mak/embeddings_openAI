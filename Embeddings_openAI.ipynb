{
  "cells": [
    {
      "cell_type": "markdown",
      "id": "caa8cd98",
      "metadata": {
        "id": "caa8cd98"
      },
      "source": [
        "# OpenAI API: Embeddings"
      ]
    },
    {
      "cell_type": "markdown",
      "id": "b126d991",
      "metadata": {
        "id": "b126d991"
      },
      "source": [
        "### Install the necessary libraries."
      ]
    },
    {
      "cell_type": "code",
      "source": [],
      "metadata": {
        "id": "ch9NaHKxVnIf"
      },
      "id": "ch9NaHKxVnIf",
      "execution_count": null,
      "outputs": []
    },
    {
      "cell_type": "code",
      "execution_count": null,
      "metadata": {
        "outputId": "d865a72b-c05e-4d86-ac04-403439ba38f8",
        "id": "-BNXOL8vVnWN"
      },
      "outputs": [
        {
          "name": "stdout",
          "output_type": "stream",
          "text": [
            "Collecting openai\n",
            "  Downloading openai-1.35.13-py3-none-any.whl.metadata (21 kB)\n",
            "Requirement already satisfied: anyio<5,>=3.5.0 in /home/codespace/.local/lib/python3.10/site-packages (from openai) (4.4.0)\n",
            "Collecting distro<2,>=1.7.0 (from openai)\n",
            "  Downloading distro-1.9.0-py3-none-any.whl.metadata (6.8 kB)\n",
            "Requirement already satisfied: httpx<1,>=0.23.0 in /home/codespace/.local/lib/python3.10/site-packages (from openai) (0.27.0)\n",
            "Collecting pydantic<3,>=1.9.0 (from openai)\n",
            "  Downloading pydantic-2.8.2-py3-none-any.whl.metadata (125 kB)\n",
            "\u001b[2K     \u001b[90m━━━━━━━━━━━━━━━━━━━━━━━━━━━━━━━━━━━━━━━\u001b[0m \u001b[32m125.2/125.2 kB\u001b[0m \u001b[31m3.5 MB/s\u001b[0m eta \u001b[36m0:00:00\u001b[0m\n",
            "\u001b[?25hRequirement already satisfied: sniffio in /home/codespace/.local/lib/python3.10/site-packages (from openai) (1.3.1)\n",
            "Collecting tqdm>4 (from openai)\n",
            "  Downloading tqdm-4.66.4-py3-none-any.whl.metadata (57 kB)\n",
            "\u001b[2K     \u001b[90m━━━━━━━━━━━━━━━━━━━━━━━━━━━━━━━━━━━━━━━━\u001b[0m \u001b[32m57.6/57.6 kB\u001b[0m \u001b[31m1.4 MB/s\u001b[0m eta \u001b[36m0:00:00\u001b[0m\n",
            "\u001b[?25hRequirement already satisfied: typing-extensions<5,>=4.7 in /home/codespace/.local/lib/python3.10/site-packages (from openai) (4.12.2)\n",
            "Requirement already satisfied: idna>=2.8 in /home/codespace/.local/lib/python3.10/site-packages (from anyio<5,>=3.5.0->openai) (3.7)\n",
            "Requirement already satisfied: exceptiongroup>=1.0.2 in /home/codespace/.local/lib/python3.10/site-packages (from anyio<5,>=3.5.0->openai) (1.2.1)\n",
            "Requirement already satisfied: certifi in /home/codespace/.local/lib/python3.10/site-packages (from httpx<1,>=0.23.0->openai) (2024.7.4)\n",
            "Requirement already satisfied: httpcore==1.* in /home/codespace/.local/lib/python3.10/site-packages (from httpx<1,>=0.23.0->openai) (1.0.5)\n",
            "Requirement already satisfied: h11<0.15,>=0.13 in /home/codespace/.local/lib/python3.10/site-packages (from httpcore==1.*->httpx<1,>=0.23.0->openai) (0.14.0)\n",
            "Collecting annotated-types>=0.4.0 (from pydantic<3,>=1.9.0->openai)\n",
            "  Downloading annotated_types-0.7.0-py3-none-any.whl.metadata (15 kB)\n",
            "Collecting pydantic-core==2.20.1 (from pydantic<3,>=1.9.0->openai)\n",
            "  Downloading pydantic_core-2.20.1-cp310-cp310-manylinux_2_17_x86_64.manylinux2014_x86_64.whl.metadata (6.6 kB)\n",
            "Downloading openai-1.35.13-py3-none-any.whl (328 kB)\n",
            "\u001b[2K   \u001b[90m━━━━━━━━━━━━━━━━━━━━━━━━━━━━━━━━━━━━━━━━\u001b[0m \u001b[32m328.5/328.5 kB\u001b[0m \u001b[31m6.2 MB/s\u001b[0m eta \u001b[36m0:00:00\u001b[0m:00:01\u001b[0m\n",
            "\u001b[?25hDownloading distro-1.9.0-py3-none-any.whl (20 kB)\n",
            "Downloading pydantic-2.8.2-py3-none-any.whl (423 kB)\n",
            "\u001b[2K   \u001b[90m━━━━━━━━━━━━━━━━━━━━━━━━━━━━━━━━━━━━━━━━\u001b[0m \u001b[32m423.9/423.9 kB\u001b[0m \u001b[31m7.6 MB/s\u001b[0m eta \u001b[36m0:00:00\u001b[0m:00:01\u001b[0m\n",
            "\u001b[?25hDownloading pydantic_core-2.20.1-cp310-cp310-manylinux_2_17_x86_64.manylinux2014_x86_64.whl (2.1 MB)\n",
            "\u001b[2K   \u001b[90m━━━━━━━━━━━━━━━━━━━━━━━━━━━━━━━━━━━━━━━━\u001b[0m \u001b[32m2.1/2.1 MB\u001b[0m \u001b[31m24.9 MB/s\u001b[0m eta \u001b[36m0:00:00\u001b[0m00:01\u001b[0m\n",
            "\u001b[?25hDownloading tqdm-4.66.4-py3-none-any.whl (78 kB)\n",
            "\u001b[2K   \u001b[90m━━━━━━━━━━━━━━━━━━━━━━━━━━━━━━━━━━━━━━━━\u001b[0m \u001b[32m78.3/78.3 kB\u001b[0m \u001b[31m2.1 MB/s\u001b[0m eta \u001b[36m0:00:00\u001b[0m\n",
            "\u001b[?25hDownloading annotated_types-0.7.0-py3-none-any.whl (13 kB)\n",
            "Installing collected packages: tqdm, pydantic-core, distro, annotated-types, pydantic, openai\n",
            "\u001b[33m  WARNING: The script tqdm is installed in '/usr/local/python/3.10.13/bin' which is not on PATH.\n",
            "  Consider adding this directory to PATH or, if you prefer to suppress this warning, use --no-warn-script-location.\u001b[0m\u001b[33m\n",
            "\u001b[0m\u001b[33m  WARNING: The script distro is installed in '/usr/local/python/3.10.13/bin' which is not on PATH.\n",
            "  Consider adding this directory to PATH or, if you prefer to suppress this warning, use --no-warn-script-location.\u001b[0m\u001b[33m\n",
            "\u001b[0m\u001b[33m  WARNING: The script openai is installed in '/usr/local/python/3.10.13/bin' which is not on PATH.\n",
            "  Consider adding this directory to PATH or, if you prefer to suppress this warning, use --no-warn-script-location.\u001b[0m\u001b[33m\n",
            "\u001b[0mSuccessfully installed annotated-types-0.7.0 distro-1.9.0 openai-1.35.13 pydantic-2.8.2 pydantic-core-2.20.1 tqdm-4.66.4\n",
            "Note: you may need to restart the kernel to use updated packages.\n"
          ]
        }
      ],
      "source": [
        "pip install openai"
      ],
      "id": "-BNXOL8vVnWN"
    },
    {
      "cell_type": "code",
      "execution_count": null,
      "metadata": {
        "outputId": "cfdfe0d9-42e9-4d7f-9f4c-ebe4ee03b5ae",
        "id": "abB-rxaVVq5J"
      },
      "outputs": [
        {
          "name": "stdout",
          "output_type": "stream",
          "text": [
            "Requirement already satisfied: openai[datalib] in /usr/local/python/3.10.13/lib/python3.10/site-packages (1.35.13)\n",
            "Requirement already satisfied: anyio<5,>=3.5.0 in /home/codespace/.local/lib/python3.10/site-packages (from openai[datalib]) (4.4.0)\n",
            "Requirement already satisfied: distro<2,>=1.7.0 in /usr/local/python/3.10.13/lib/python3.10/site-packages (from openai[datalib]) (1.9.0)\n",
            "Requirement already satisfied: httpx<1,>=0.23.0 in /home/codespace/.local/lib/python3.10/site-packages (from openai[datalib]) (0.27.0)\n",
            "Requirement already satisfied: pydantic<3,>=1.9.0 in /usr/local/python/3.10.13/lib/python3.10/site-packages (from openai[datalib]) (2.8.2)\n",
            "Requirement already satisfied: sniffio in /home/codespace/.local/lib/python3.10/site-packages (from openai[datalib]) (1.3.1)\n",
            "Requirement already satisfied: tqdm>4 in /usr/local/python/3.10.13/lib/python3.10/site-packages (from openai[datalib]) (4.66.4)\n",
            "Requirement already satisfied: typing-extensions<5,>=4.7 in /home/codespace/.local/lib/python3.10/site-packages (from openai[datalib]) (4.12.2)\n",
            "Requirement already satisfied: numpy>=1 in /home/codespace/.local/lib/python3.10/site-packages (from openai[datalib]) (2.0.0)\n",
            "Collecting pandas-stubs>=1.1.0.11 (from openai[datalib])\n",
            "  Downloading pandas_stubs-2.2.2.240603-py3-none-any.whl.metadata (10 kB)\n",
            "Requirement already satisfied: pandas>=1.2.3 in /home/codespace/.local/lib/python3.10/site-packages (from openai[datalib]) (2.2.2)\n",
            "Requirement already satisfied: idna>=2.8 in /home/codespace/.local/lib/python3.10/site-packages (from anyio<5,>=3.5.0->openai[datalib]) (3.7)\n",
            "Requirement already satisfied: exceptiongroup>=1.0.2 in /home/codespace/.local/lib/python3.10/site-packages (from anyio<5,>=3.5.0->openai[datalib]) (1.2.1)\n",
            "Requirement already satisfied: certifi in /home/codespace/.local/lib/python3.10/site-packages (from httpx<1,>=0.23.0->openai[datalib]) (2024.7.4)\n",
            "Requirement already satisfied: httpcore==1.* in /home/codespace/.local/lib/python3.10/site-packages (from httpx<1,>=0.23.0->openai[datalib]) (1.0.5)\n",
            "Requirement already satisfied: h11<0.15,>=0.13 in /home/codespace/.local/lib/python3.10/site-packages (from httpcore==1.*->httpx<1,>=0.23.0->openai[datalib]) (0.14.0)\n",
            "Requirement already satisfied: python-dateutil>=2.8.2 in /home/codespace/.local/lib/python3.10/site-packages (from pandas>=1.2.3->openai[datalib]) (2.9.0.post0)\n",
            "Requirement already satisfied: pytz>=2020.1 in /home/codespace/.local/lib/python3.10/site-packages (from pandas>=1.2.3->openai[datalib]) (2024.1)\n",
            "Requirement already satisfied: tzdata>=2022.7 in /home/codespace/.local/lib/python3.10/site-packages (from pandas>=1.2.3->openai[datalib]) (2024.1)\n",
            "Collecting types-pytz>=2022.1.1 (from pandas-stubs>=1.1.0.11->openai[datalib])\n",
            "  Downloading types_pytz-2024.1.0.20240417-py3-none-any.whl.metadata (1.5 kB)\n",
            "Requirement already satisfied: annotated-types>=0.4.0 in /usr/local/python/3.10.13/lib/python3.10/site-packages (from pydantic<3,>=1.9.0->openai[datalib]) (0.7.0)\n",
            "Requirement already satisfied: pydantic-core==2.20.1 in /usr/local/python/3.10.13/lib/python3.10/site-packages (from pydantic<3,>=1.9.0->openai[datalib]) (2.20.1)\n",
            "Requirement already satisfied: six>=1.5 in /home/codespace/.local/lib/python3.10/site-packages (from python-dateutil>=2.8.2->pandas>=1.2.3->openai[datalib]) (1.16.0)\n",
            "Downloading pandas_stubs-2.2.2.240603-py3-none-any.whl (157 kB)\n",
            "\u001b[2K   \u001b[90m━━━━━━━━━━━━━━━━━━━━━━━━━━━━━━━━━━━━━━━━\u001b[0m \u001b[32m157.0/157.0 kB\u001b[0m \u001b[31m3.6 MB/s\u001b[0m eta \u001b[36m0:00:00\u001b[0m:00:01\u001b[0m\n",
            "\u001b[?25hDownloading types_pytz-2024.1.0.20240417-py3-none-any.whl (5.2 kB)\n",
            "Installing collected packages: types-pytz, pandas-stubs\n",
            "Successfully installed pandas-stubs-2.2.2.240603 types-pytz-2024.1.0.20240417\n",
            "Note: you may need to restart the kernel to use updated packages.\n"
          ]
        }
      ],
      "source": [
        "pip install openai[datalib]"
      ],
      "id": "abB-rxaVVq5J"
    },
    {
      "cell_type": "code",
      "execution_count": null,
      "metadata": {
        "outputId": "a399389f-d183-43df-f7c5-2fb8f5fddf9c",
        "id": "t-JXqcdRVwqG"
      },
      "outputs": [
        {
          "name": "stdout",
          "output_type": "stream",
          "text": [
            "Collecting urllib3==1.26.6\n",
            "  Downloading urllib3-1.26.6-py2.py3-none-any.whl.metadata (44 kB)\n",
            "\u001b[2K     \u001b[90m━━━━━━━━━━━━━━━━━━━━━━━━━━━━━━━━━━━━━━━━\u001b[0m \u001b[32m44.3/44.3 kB\u001b[0m \u001b[31m1.1 MB/s\u001b[0m eta \u001b[36m0:00:00\u001b[0m\n",
            "\u001b[?25hDownloading urllib3-1.26.6-py2.py3-none-any.whl (138 kB)\n",
            "\u001b[2K   \u001b[90m━━━━━━━━━━━━━━━━━━━━━━━━━━━━━━━━━━━━━━━━\u001b[0m \u001b[32m138.5/138.5 kB\u001b[0m \u001b[31m4.1 MB/s\u001b[0m eta \u001b[36m0:00:00\u001b[0m\n",
            "\u001b[?25hInstalling collected packages: urllib3\n",
            "  Attempting uninstall: urllib3\n",
            "    Found existing installation: urllib3 2.0.7\n",
            "    Uninstalling urllib3-2.0.7:\n",
            "      Successfully uninstalled urllib3-2.0.7\n",
            "Successfully installed urllib3-1.26.6\n",
            "Note: you may need to restart the kernel to use updated packages.\n"
          ]
        }
      ],
      "source": [
        "pip install urllib3==1.26.6"
      ],
      "id": "t-JXqcdRVwqG"
    },
    {
      "cell_type": "code",
      "execution_count": null,
      "metadata": {
        "outputId": "deafe1a9-90b7-4e51-b781-7e030b9c1ea5",
        "id": "FBOxX5GdV1j4"
      },
      "outputs": [
        {
          "name": "stdout",
          "output_type": "stream",
          "text": [
            "Collecting python-dotenv\n",
            "  Downloading python_dotenv-1.0.1-py3-none-any.whl.metadata (23 kB)\n",
            "Downloading python_dotenv-1.0.1-py3-none-any.whl (19 kB)\n",
            "Installing collected packages: python-dotenv\n",
            "\u001b[33m  WARNING: The script dotenv is installed in '/usr/local/python/3.10.13/bin' which is not on PATH.\n",
            "  Consider adding this directory to PATH or, if you prefer to suppress this warning, use --no-warn-script-location.\u001b[0m\u001b[33m\n",
            "\u001b[0mSuccessfully installed python-dotenv-1.0.1\n",
            "Note: you may need to restart the kernel to use updated packages.\n"
          ]
        }
      ],
      "source": [
        "pip install python-dotenv"
      ],
      "id": "FBOxX5GdV1j4"
    },
    {
      "cell_type": "markdown",
      "id": "ee48e61b",
      "metadata": {
        "id": "ee48e61b"
      },
      "source": [
        "### Import the libraries and environment file to gain access to the Open API Key\n",
        "#### The key can be generated here: https://platform.openai.com/account/api-keys"
      ]
    },
    {
      "cell_type": "code",
      "execution_count": null,
      "id": "70841de5",
      "metadata": {
        "id": "70841de5"
      },
      "outputs": [],
      "source": [
        "import os\n",
        "from openai import OpenAI\n",
        "\n",
        "from dotenv import load_dotenv, find_dotenv\n",
        "_ = load_dotenv(find_dotenv()) # read local .env file"
      ]
    },
    {
      "cell_type": "markdown",
      "id": "e5387008",
      "metadata": {
        "id": "e5387008"
      },
      "source": [
        "### Authenticate to the API using the API Key\n",
        "#### Pull from environment variables or use api_key = (\"your_key_here\") to hardcode the key"
      ]
    },
    {
      "cell_type": "code",
      "execution_count": null,
      "id": "7cf566e0",
      "metadata": {
        "id": "7cf566e0"
      },
      "outputs": [],
      "source": [
        "client = OpenAI(\n",
        "  api_key=os.environ['OPENAI_API_KEY']\n",
        ")"
      ]
    },
    {
      "cell_type": "markdown",
      "id": "288ac011",
      "metadata": {
        "id": "288ac011"
      },
      "source": [
        "#### Helper functions"
      ]
    },
    {
      "cell_type": "code",
      "execution_count": null,
      "id": "9d0d16df",
      "metadata": {
        "id": "9d0d16df"
      },
      "outputs": [],
      "source": [
        "def get_embeddings(word, model):\n",
        "    try:\n",
        "        response = client.embeddings.create(\n",
        "            input= word,\n",
        "            model= model\n",
        "        )\n",
        "\n",
        "        return response\n",
        "    except openai.APIError as e:\n",
        "        print(e.http_status)\n",
        "        print(e.error)\n",
        "        return e.error"
      ]
    },
    {
      "cell_type": "markdown",
      "source": [
        "\n",
        "### Cosine Similarity\n",
        "\n",
        "**Cosine similarity** is a metric used to measure the similarity between two non-zero vectors in an inner product space. It is often used in NLP to compare embeddings by calculating the cosine of the angle between two vectors, resulting in a similarity score between -1 and 1.\n",
        "\n",
        "#### Formula\n",
        "\\[ \\text{cosine\\_similarity} = \\frac{\\vec{A} \\cdot \\vec{B}}{\\|\\vec{A}\\| \\|\\vec{B}\\|} \\]\n",
        "where:\n",
        "- \\(\\vec{A} \\cdot \\vec{B}\\) is the dot product of vectors A and B.\n",
        "- \\(\\|\\vec{A}\\|\\) and \\(\\|\\vec{B}\\|\\) are the magnitudes (or Euclidean norms) of vectors A and B.\n",
        "\n",
        "#### Interpretation\n",
        "- **1**: The vectors are identical.\n",
        "- **0**: The vectors are orthogonal (no similarity).\n",
        "- **-1**: The vectors are diametrically opposed.\n"
      ],
      "metadata": {
        "id": "uzUa4428YEeL"
      },
      "id": "uzUa4428YEeL"
    },
    {
      "cell_type": "code",
      "execution_count": null,
      "id": "b1ca543c",
      "metadata": {
        "id": "b1ca543c"
      },
      "outputs": [],
      "source": [
        "import numpy as np\n",
        "from numpy.linalg import norm\n",
        "\n",
        "# compute cosine similarity\n",
        "def compute_cosine_similarity(embeddings1, embeddings2):\n",
        "    return np.dot(embeddings1,embeddings2)/(norm(embeddings1)*norm(embeddings2))"
      ]
    },
    {
      "cell_type": "markdown",
      "id": "36c45503",
      "metadata": {
        "id": "36c45503"
      },
      "source": [
        "# Embeddings for single words"
      ]
    },
    {
      "cell_type": "markdown",
      "source": [
        "### Embeddings for NLP\n",
        "\n",
        "**Embeddings** are dense vector representations of words, sentences, or documents, designed to capture the semantic meaning and relationships between them. Traditional NLP techniques, such as the bag-of-words model or TF-IDF, represent words as sparse vectors, which often fail to capture the contextual meaning. Embeddings address this limitation by representing words in a continuous vector space, where similar words have similar vectors.\n",
        "\n",
        "#### Types of Embeddings\n",
        "\n",
        "1. **Word Embeddings**:\n",
        "   - **Word2Vec**: Developed by Google, Word2Vec uses neural networks to learn word associations from large datasets. It creates embeddings using two main approaches: Continuous Bag of Words (CBOW) and Skip-gram.\n",
        "   - **GloVe**: Developed by Stanford, GloVe (Global Vectors for Word Representation) creates embeddings by factorizing the word co-occurrence matrix, capturing global statistical information.\n",
        "   - **FastText**: Developed by Facebook, FastText extends Word2Vec by considering subword information, allowing it to handle rare and out-of-vocabulary words better.\n",
        "\n",
        "2. **Contextualized Word Embeddings**:\n",
        "   - **ELMo**: Developed by AllenNLP, ELMo (Embeddings from Language Models) generates word representations that capture context, meaning a word can have different embeddings depending on its context in a sentence.\n",
        "   - **BERT**: Developed by Google, BERT (Bidirectional Encoder Representations from Transformers) is a transformer-based model that generates context-aware embeddings for words. It considers the bidirectional context of words in a sentence.\n",
        "   - **GPT-3**: Developed by OpenAI, GPT-3 (Generative Pre-trained Transformer 3) is a large-scale transformer model that generates highly contextualized embeddings for various NLP tasks.\n",
        "\n",
        "3. **Sentence and Document Embeddings**:\n",
        "   - **InferSent**: Developed by Facebook, InferSent generates sentence-level embeddings that can be used for various downstream tasks.\n",
        "   - **Universal Sentence Encoder**: Developed by Google, this encoder creates embeddings for sentences and paragraphs, designed for easy integration into various NLP applications.\n",
        "   - **Doc2Vec**: An extension of Word2Vec, Doc2Vec generates embeddings for entire documents.\n",
        "\n",
        "#### Applications in NLP\n",
        "- **Document Similarity**: Comparing the similarity between documents, articles, or any text data.\n",
        "- **Information Retrieval**: Ranking search results based on the similarity of the query and documents.\n",
        "- **Recommendation Systems**: Recommending items (e.g., products, movies) based on textual descriptions or user reviews.\n",
        "- **Clustering**: Grouping similar documents or text data for tasks such as topic modeling.\n",
        "- **Semantic Search**: Enhancing search engines to understand the semantic meaning of queries and documents.\n",
        "\n",
        "### Example\n",
        "\n",
        "Consider two sentences:\n",
        "1. \"The cat sat on the mat.\"\n",
        "2. \"The dog sat on the rug.\"\n",
        "\n",
        "Using embeddings, each word or the entire sentence is represented as a vector. Cosine similarity can then be calculated between these vectors to determine how similar the sentences are.\n",
        "\n",
        "#### Calculation Steps\n",
        "1. **Obtain Embeddings**: Generate embeddings for the sentences using a model like BERT.\n",
        "2. **Compute Cosine Similarity**: Apply the cosine similarity formula to the embeddings of the two sentences.\n",
        "\n",
        "By leveraging embeddings and cosine similarity, we can perform sophisticated text analysis and comparisons, capturing the nuances of human language more effectively than traditional methods."
      ],
      "metadata": {
        "id": "ZIkayytXX8A8"
      },
      "id": "ZIkayytXX8A8"
    },
    {
      "cell_type": "markdown",
      "source": [
        "Generate embeddings for single words"
      ],
      "metadata": {
        "id": "1_3zuxi-WuVX"
      },
      "id": "1_3zuxi-WuVX"
    },
    {
      "cell_type": "code",
      "execution_count": null,
      "id": "ddd6113f",
      "metadata": {
        "id": "ddd6113f"
      },
      "outputs": [],
      "source": [
        "response = get_embeddings(\"sun\",\"text-embedding-ada-002\")"
      ]
    },
    {
      "cell_type": "code",
      "execution_count": null,
      "id": "8447d353",
      "metadata": {
        "id": "8447d353"
      },
      "outputs": [],
      "source": [
        "sun_embeddings = response.data[0].embedding"
      ]
    },
    {
      "cell_type": "code",
      "execution_count": null,
      "id": "e1932184",
      "metadata": {
        "id": "e1932184",
        "outputId": "23721692-755d-410f-b724-9c9a76f30251"
      },
      "outputs": [
        {
          "name": "stdout",
          "output_type": "stream",
          "text": [
            "[0.024731263518333435, -0.0025623245164752007, -0.0014253035187721252, -0.009048685431480408, -0.02318471111357212, 0.025301046669483185, -0.014719375409185886, -0.028299186378717422, -0.00608785217627883, -0.022777725011110306, 0.007088362704962492, 0.01802953891456127, 0.008553517051041126, 0.0018670543795451522, -0.01535698864609003, -0.005039860028773546, 0.043113525956869125, -0.025708032771945, 0.026562707498669624, -0.021624593064188957, -0.009516720660030842, 0.007027314510196447, -0.005148389842361212, -0.002426662016659975, -0.0025928483810275793, 0.004181794822216034, -9.199609485222027e-05, -0.019508259370923042, 0.004093614406883717, -0.02043076418340206, 0.02226220816373825, -0.01585894078016281, -0.017771780490875244, -0.005623208358883858, -4.1838087781798095e-05, -0.01137529592961073, -0.005636774469166994, -0.000401052093366161, -0.0009386145393364131, -0.007169760297983885, 0.0011098884278908372, 0.01702563650906086, -0.0012396156089380383, -0.006223514676094055, 0.004022391512989998, 0.0119857769459486, 0.0188299473375082, -0.003805331652984023, -0.003788373898714781, 0.002718336181715131, 0.00902833603322506, 0.010880128480494022, -0.01906057447195053, -0.0099915387108922, -0.017310528084635735, 0.009123299270868301, 0.009598118253052235, 0.010391742922365665, -0.002021370455622673, -0.005538419354707003, -0.006376135163009167, 0.008404288440942764, -0.009489588439464569, 0.016048867255449295, 0.0009225046378560364, -0.003628970356658101, -0.008356806822121143, 0.0023096532095223665, -0.003050709143280983, 0.0010369698284193873, 0.02648130990564823, 0.025165382772684097, -0.007990517653524876, -0.024582035839557648, 0.013403449207544327, 0.005735130049288273, 0.0011963731376454234, -0.019169103354215622, -0.0014405655674636364, 0.011388862505555153, 0.009163998067378998, -0.02709178999066353, -0.02308974787592888, -0.0024741438683122396, 0.004069873597472906, 0.016265926882624626, -0.017446190118789673, 0.0285433791577816, -0.013118558563292027, 0.006718682590872049, 0.009693081490695477, 0.02090558223426342, 0.023795193061232567, 0.010764814913272858, -0.029438750818371773, 0.009014769457280636, 0.005036468151956797, 0.04653221741318703, 0.00633543636649847, -0.01159235555678606, 0.010615586303174496, 0.014814338646829128, -0.028733305633068085, -0.0099983224645257, -0.022872688248753548, -0.00400204211473465, 0.02743094600737095, -0.012121439911425114, 0.022085845470428467, -0.016984937712550163, -0.020132306963205338, 0.024487070739269257, -0.00982874445617199, -0.05279982462525368, -0.007909120991826057, -0.021624593064188957, -0.008234710432589054, -0.01735122688114643, 0.013254220597445965, -0.010317129082977772, 0.03160934895277023, -0.007909120991826057, 0.010649502277374268, -0.022709893062710762, 0.027837933972477913, -0.0019772802479565144, -0.016523685306310654, -0.031934939324855804, -0.00616585835814476, 0.007793807424604893, 0.029086029157042503, 0.0038358557503670454, 0.006722074002027512, -0.003544181352481246, -0.012487728148698807, 0.005212829448282719, -0.008594215847551823, 0.021434666588902473, -0.037280041724443436, -0.012474161572754383, -0.009394624270498753, 0.024256445467472076, -0.015262025408446789, -0.024717697873711586, -0.001772090676240623, -0.0026131977792829275, -0.007963385432958603, 0.026657670736312866, 0.016157398000359535, -0.02374092862010002, 0.017907442525029182, -0.031039567664265633, 0.009435323067009449, -0.007264724001288414, -0.007583530619740486, 0.012365631759166718, -0.00982874445617199, 0.029737208038568497, -0.014515881426632404, 0.010751249268651009, 0.014936435036361217, -0.006772947497665882, 0.02020013891160488, 0.0001246398751391098, -0.005060209427028894, 0.029330220073461533, 0.008838408626616001, -0.0026996827218681574, 0.007590313907712698, -0.0031032783444970846, -0.015343423001468182, 0.03494664654135704, -0.002034936798736453, 0.019101271405816078, 0.005212829448282719, 0.037171509116888046, 0.02226220816373825, 0.013064293190836906, -0.014176725409924984, -0.02650844119489193, -0.01908770576119423, -0.004039349500089884, 0.009591334499418736, 0.023049049079418182, -0.0016762791201472282, -0.005819919053465128, 0.022004447877407074, 0.0009877921547740698, 0.023116881027817726, -0.014041063375771046, 0.008824842050671577, 0.00810583122074604, 0.0285705104470253, -0.0016466028755530715, -0.6767928004264832, -0.018450092524290085, -0.005263702943921089, -0.0026233724784106016, 0.0027098574209958315, 0.009442105889320374, 0.03345435857772827, 0.0034441302996128798, -0.0031863716430962086, -0.009686298668384552, -0.002272346056997776, 0.013010028749704361, -0.0008326282841153443, -0.002402920974418521, -0.008729878813028336, 0.006060719955712557, -0.002555541228502989, 0.00025436709984205663, 0.0042326683178544044, 0.016645781695842743, -0.010330695658922195, 0.004015608225017786, 0.004778709728270769, 0.0013574723852798343, 0.03472958505153656, 0.01045279111713171, -0.0023825718089938164, -0.01608956605195999, -0.007088362704962492, 0.018138069659471512, -0.007000182289630175, 0.026874730363488197, 0.018341561779379845, -0.019453994929790497, 0.03817541152238846, -0.02867904119193554, -0.02033580094575882, 0.03299310803413391, 0.027037525549530983, 0.03565208986401558, -0.005304401740431786, 0.0006117528537288308, 0.03475672006607056, -0.008350023068487644, -0.015438386239111423, 0.011863680556416512, 0.03220626339316368, -0.01954895816743374, -0.003088016528636217, 0.001165849156677723, 0.05610998719930649, 0.011205717921257019, 0.012541993521153927, 0.016876408830285072, -0.007841289043426514, 0.001870446023531258, 0.019345464184880257, -0.01598103530704975, -0.014637977816164494, 0.012820101343095303, -0.0018857079558074474, -0.013437365181744099, -0.00822114385664463, -0.002580977976322174, 0.004693920724093914, 0.009218263439834118, -0.04216388985514641, -0.003230462083593011, 0.022533532232046127, -0.021041246131062508, 0.004449728410691023, 0.0007224025321193039, -0.004873673431575298, 0.0005409540026448667, 0.0035068741999566555, 0.005009335931390524, 0.039803363382816315, -0.027105357497930527, -0.0280007291585207, 0.014013930223882198, 0.0031117573380470276, -0.017961706966161728, -0.01268443837761879, -0.011097188107669353, 0.029981400817632675, -0.021041246131062508, -0.0182601660490036, 0.005111082457005978, 0.011734801344573498, -0.018002405762672424, 0.01575041003525257, 0.029791472479701042, 0.0062845628708601, -0.015194193460047245, 0.009381057694554329, 0.024120783433318138, -0.008872323669493198, -0.00025563890812918544, 0.006382917985320091, -0.0050432514399290085, 0.0024843185674399137, 0.008960504084825516, 0.019440429285168648, 0.006701724603772163, 0.03063257969915867, 0.00499916123226285, 0.0011285420041531324, -0.0032762479968369007, 0.028353450819849968, -0.04297786206007004, 0.011755150742828846, -0.01394609920680523, -0.01564187929034233, -0.0012480944860726595, -0.0020400239154696465, -0.03611334413290024, 0.0011633054818958044, 0.00548076257109642, 0.01656438410282135, -0.010344261303544044, 0.009476021863520145, 0.003947777207940817, 0.00851281825453043, -0.027132488787174225, 0.009448889642953873, 0.012114656157791615, -0.004402246326208115, -0.029547281563282013, -0.008065132424235344, -0.01400036457926035, 0.009062251076102257, 0.012541993521153927, 0.003920644521713257, -0.012012909166514874, 0.02536887675523758, 0.00856708362698555, 0.011192151345312595, -0.01973888650536537, 0.011687319725751877, -0.020566426217556, -0.024270011112093925, -0.010656285099685192, 0.0077124098315835, 0.010656285099685192, 0.004602348431944847, -0.022194376215338707, -0.013647641986608505, -0.01021538209170103, -0.008031216450035572, 0.008695962838828564, -0.018531490117311478, -0.015167061239480972, -0.02283198945224285, 0.004663396626710892, 0.015397687442600727, -0.007169760297983885, -0.0007711562211625278, -0.016740744933485985, -0.01216213870793581, 0.00042966840555891395, 0.028244921937584877, 0.0160081684589386, -0.016482986509799957, 0.0032016336917877197, 0.0050262934528291225, -0.02135326899588108, 0.005789394956082106, 0.029954267665743828, -0.0017076510703191161, -0.031093832105398178, 0.013573027215898037, 0.008092264644801617, -0.0053518833592534065, 0.009421756491065025, 0.014258123002946377, -0.0023639181163161993, 0.008953721262514591, -0.012921848334372044, 0.012874365784227848, 0.007183326408267021, 0.007162977010011673, -0.008628131821751595, -0.02352386713027954, 0.00024292056332342327, 0.010981874540448189, 0.021081944927573204, 0.018897779285907745, 0.015194193460047245, -0.004073265008628368, -0.003710367949679494, 0.011361729353666306, 0.01062915287911892, -0.0008953721262514591, 0.014434483833611012, -0.005005944054573774, 0.009014769457280636, -0.016130264848470688, 0.00594201497733593, 0.03451252728700638, -0.004581999033689499, 0.02606075629591942, -0.0071968925185501575, 0.018138069659471512, -0.0018280514050275087, 0.020390065386891365, -0.04126851633191109, 0.009035118855535984, -0.015329856425523758, 0.0094149736687541, 0.015560482628643513, 0.012541993521153927, -0.03790408745408058, -0.01461084559559822, -0.014882170595228672, 0.017310528084635735, 0.02718675322830677, 2.7980378945358098e-05, -0.007827723398804665, 0.00834324024617672, -0.023930855095386505, -0.0034271725453436375, 0.012982895597815514, 0.01159913931041956, -0.028814703226089478, 0.009686298668384552, 0.0065050143748521805, 0.007366470992565155, 0.005497720558196306, 0.001132781384512782, -0.010568104684352875, -0.01560118142515421, -0.00810583122074604, -0.013986798003315926, 0.02957441285252571, -0.004581999033689499, -0.0030947995837777853, 0.005229787435382605, -0.010303562507033348, 0.019589656963944435, 0.011863680556416512, -0.004754968918859959, 0.018219467252492905, 0.0171205997467041, -0.015967469662427902, 0.01895204372704029, -0.013281353749334812, 0.007115495391190052, -0.012019692920148373, -0.0025504538789391518, 0.010039021261036396, 0.0017381750512868166, -0.0005150933284312487, -0.01535698864609003, -0.006566062569618225, 0.0291131604462862, -0.011633054353296757, 0.011734801344573498, 0.01142956130206585, 0.017649684101343155, 0.022981218993663788, 0.009387841448187828, 0.01608956605195999, 0.0022096021566540003, 0.010758032090961933, 0.01108362153172493, -0.010120418854057789, 0.0027742970269173384, -0.011843331158161163, -0.016971372067928314, 0.019467560574412346, 0.004490426741540432, -0.006823820993304253, 0.020485028624534607, -0.019169103354215622, 0.001449892413802445, -0.013505196198821068, -0.015397687442600727, 0.0182601660490036, 0.025884395465254784, -0.0027997337747365236, -0.023795193061232567, -0.02444637194275856, 0.010886911302804947, 0.010534188710153103, -0.017391925677657127, -0.02329324185848236, -0.04398176446557045, -0.011605922132730484, -0.0021875568199902773, -0.002408008323982358, -0.0030964952893555164, 0.012168921530246735, -0.0016398198204115033, -0.0013057510368525982, -9.438078996026888e-05, -0.0026267641223967075, 0.014637977816164494, -0.01747332327067852, 0.012541993521153927, 0.0004625241563189775, -0.005379016045480967, -0.012881149537861347, 0.019114838913083076, -0.02329324185848236, 0.023211844265460968, 0.004046132322400808, -0.015384120866656303, -0.020756354555487633, -0.019562523812055588, 0.001176023855805397, -0.005341708660125732, 0.0032525071874260902, -0.024527769535779953, 0.0010208599269390106, 0.010154333896934986, -0.01341701578348875, -0.011470260098576546, -0.03163648396730423, 0.007074796594679356, -0.013206738978624344, -0.017446190118789673, -0.006613544188439846, -0.010907260701060295, 0.005724955350160599, 0.060722511261701584, 0.018653586506843567, -0.0055180699564516544, 0.02638634480535984, 0.006223514676094055, 0.010005105286836624, -0.018707850947976112, -0.02490762434899807, -0.006603369489312172, -0.007237591315060854, 0.011049706488847733, -0.012847233563661575, -0.00856029987335205, -0.004093614406883717, 0.008607782423496246, -0.001692389021627605, 0.001001358381472528, -0.027593741193413734, 0.01873498409986496, 0.002267258707433939, -0.02123117260634899, -0.005216220859438181, 0.011165019124746323, 0.030089929699897766, 0.021990882232785225, -0.0043920716270804405, 0.003639145055785775, 0.019820284098386765, 0.015940336510539055, -0.033888477832078934, -0.0024639691691845655, 0.021611027419567108, -0.002818387234583497, 0.0007779393345117569, -0.015696145594120026, 0.012996462173759937, -0.0011319335317239165, 0.012141789309680462, 0.020159440115094185, -0.009794828481972218, 0.02409365028142929, 0.017839612439274788, -0.0004027478862553835, -0.014936435036361217, 0.006023412570357323, -0.020498596131801605, 0.009014769457280636, 0.013091426342725754, -0.013254220597445965, -0.02968294359743595, 0.025613069534301758, -0.005297618452459574, -0.01090047787874937, -0.01760898530483246, -0.0067118993028998375, 0.014244556427001953, -0.005830093752592802, 0.012582691386342049, -0.019006308168172836, -0.00436833081766963, -0.005884358659386635, -0.011612704955041409, -0.00019162319949828088, -0.011633054353296757, 0.004456511233001947, -0.013220305554568768, -0.010852995328605175, -0.00805156584829092, -0.00674242340028286, -0.008160095661878586, -0.003951168619096279, -0.008377156220376492, -0.01670004613697529, 0.009163998067378998, 0.006783122196793556, -0.008472119458019733, 0.013606943190097809, -0.012521644122898579, 0.032613251358270645, -0.003720542648807168, 0.002494493266567588, -0.021760256960988045, 0.014760074205696583, -0.021882353350520134, -0.016767878085374832, 0.005887750070542097, 0.006952700205147266, -0.01861288771033287, 0.007203675806522369, 0.02009160816669464, 0.024039385840296745, 0.006267604883760214, 0.01793457567691803, -0.02330680750310421, 0.009577768854796886, 0.011619488708674908, 0.010378177277743816, 0.00856708362698555, -0.022330038249492645, -0.02524678036570549, 0.019779585301876068, -0.01244702935218811, 0.015031399205327034, -0.00042564093018881977, 0.012521644122898579, 0.005914882756769657, 0.015845373272895813, 0.028272053226828575, -0.00931322667747736, -0.028136391192674637, 0.013322052545845509, -0.02399868704378605, 0.013864701613783836, -0.012698004953563213, 0.004839757923036814, -0.005494329147040844, -0.00048372140736319125, -0.004721052944660187, 0.011212500743567944, -0.006352393887937069, -0.02684759721159935, -0.041621237993240356, 0.04286933317780495, 0.0031948506366461515, -0.010947959497570992, -0.007325772196054459, 0.009788045659661293, -0.007922686636447906, 0.006874694488942623, -0.01679501123726368, -0.010147551074624062, 0.022004447877407074, 0.018450092524290085, -0.010649502277374268, -0.03106670081615448, -0.011612704955041409, -0.017731081694364548, 0.011287115514278412, -0.02055286057293415, -0.014163159765303135, -0.010975091718137264, 0.012080741114914417, 0.007637795526534319, -0.03223339840769768, 0.002979486482217908, -0.04181116446852684, -0.0035407899413257837, 0.002965920139104128, 0.0302798580378294, 0.018762115389108658, -0.02490762434899807, 0.0011929816100746393, -0.008417855016887188, 0.007074796594679356, -0.007407169323414564, -0.03850100189447403, -0.011042922735214233, -0.007325772196054459, 0.03340009227395058, 0.0035950548481196165, 0.03415980562567711, 0.011144669726490974, 0.013267787173390388, 0.021190473809838295, -0.002486014273017645, 0.004517559427767992, -0.006203165277838707, 0.011504175141453743, -0.01585894078016281, -0.0006469403160735965, 0.020946281030774117, -0.002173990709707141, 0.011721235699951649, -0.01096152514219284, 0.0001872777647804469, 0.02546384185552597, -8.510698535246775e-05, -0.006135334260761738, -0.02878757007420063, -0.030985303223133087, -0.019684620201587677, 0.01113788690418005, -0.026901863515377045, 0.010018671862781048, 0.02295408584177494, -0.007291856221854687, 0.031148098409175873, 0.011585572734475136, 0.009041901677846909, -0.019901681691408157, 0.021393967792391777, -0.00890623964369297, 0.016279494389891624, 0.0122774513438344, -0.0012659002095460892, -0.006206556688994169, -0.0026810290291905403, -0.0016771269729360938, -0.0027505559846758842, 0.029737208038568497, 0.003866379614919424, 0.009306443855166435, -0.01599460281431675, -0.012433462776243687, -0.00402917480096221, 0.01480077300220728, -0.024405673146247864, -0.018070237711071968, 0.007529265712946653, -0.01564187929034233, -0.015004266053438187, 0.0008152464870363474, -0.025151817128062248, -0.04121425002813339, 0.012026475742459297, 0.002184165408834815, 0.0021180298645049334, 0.00982874445617199, -0.005175522528588772, -0.03972196578979492, 0.010025454685091972, -0.015546916052699089, 0.02960154600441456, -0.007807373534888029, 0.027729403227567673, 0.028651908040046692, -0.004595565143972635, -0.03475672006607056, -0.0028539986815303564, -0.006128550972789526, -0.008872323669493198, 0.010154333896934986, 0.0045650415122509, -0.013267787173390388, 0.005887750070542097, 0.0024554901756346226, 0.0058538345620036125, 0.004110571928322315, -0.02215367741882801, 0.022316472604870796, 0.016767878085374832, -0.016632216051220894, 0.004449728410691023, -0.014963568188250065, -0.02454133704304695, 0.021733123809099197, -0.00924539566040039, -0.010737682692706585, -0.025219649076461792, -0.013111775740981102, -0.008302541449666023, 0.02832631953060627, -0.025558805093169212, 0.0013532328885048628, 0.01725626364350319, -0.028597643598914146, -0.004059698898345232, 0.006518580485135317, 0.009984755888581276, 0.009720214642584324, -0.005270486231893301, 0.018327996134757996, -0.018463658168911934, 0.00017763301730155945, -0.00776667520403862, 0.017446190118789673, -0.016415156424045563, -0.0160081684589386, -0.01929119974374771, 0.029520148411393166, -0.02353743463754654, -0.0015092446701601148, 0.01382400281727314, 0.016021734103560448, 0.023808758705854416, 0.017215564846992493, -0.013810437172651291, 0.0015753800980746746, -0.013281353749334812, -0.008316108025610447, 0.048024505376815796, 0.02078348584473133, -0.004429379012435675, -0.00531457643955946, -0.020254403352737427, -0.020824184641242027, 0.005063600838184357, 0.0024690565187484026, -0.011415994726121426, -0.005138215143233538, -0.004442945122718811, 0.010954742319881916, 0.011504175141453743, -0.00674242340028286, 9.978608431993052e-05, -0.030903905630111694, -0.01130746491253376, 0.014095327816903591, -0.02603362314403057, 0.026535574346780777, -0.007725976407527924, 0.00585044315084815, -0.02810925804078579, 0.010344261303544044, -0.016740744933485985, -0.025626635178923607, 0.023469602689146996, 0.0007147715077735484, -0.02673906832933426, 0.006796688307076693, 0.0033372961916029453, 0.02032223343849182, 0.025043288245797157, -0.01849079132080078, 0.025111118331551552, 0.0029370919801294804, -0.017269829288125038, -0.0239715538918972, -0.013769738376140594, 0.03239619359374046, -0.007386820390820503, -0.009767696261405945, 0.011843331158161163, -0.01480077300220728, -0.014882170595228672, 0.015262025408446789, 0.011741585098206997, 0.00019978414638899267, -0.014855037443339825, -0.01033747848123312, -0.006125159561634064, 0.015628313645720482, -0.0023757885210216045, -0.026766199618577957, -0.0012023084564134479, -0.0145565802231431, 7.472033303201897e-06, 0.022357171401381493, -0.0005600315053015947, -0.008628131821751595, 0.008702745661139488, 0.012867582961916924, 0.0017466539284214377, 0.01101579051464796, -0.012440246529877186, -0.015587614849209785, -0.013918966986238956, -0.017432624474167824, -0.013240654952824116, -0.011198935098946095, -0.013790087774395943, 0.03280317783355713, 0.022004447877407074, -0.025409575551748276, -0.014950001612305641, -0.0002759882772807032, -0.02456846833229065, -0.006952700205147266, 0.013525545597076416, 0.006521971896290779, 0.00875022727996111, 0.007705627009272575, -0.005650341045111418, 0.038338206708431244, 0.008831624872982502, 0.028353450819849968, -0.00873666163533926, -0.009516720660030842, 0.015180627815425396, -0.005975930951535702, 0.02421574667096138, -0.028380583971738815, -0.006270996760576963, -0.005379016045480967, 0.00014912270125932992, -0.008200794458389282, -0.013511979952454567, 0.0177039485424757, 0.0032440281938761473, 0.012073957361280918, -0.0071561941877007484, -0.0016067520482465625, -0.003062579780817032, 0.002496188972145319, 0.012209620326757431, -0.04102432355284691, 0.0003688322613015771, 0.0032677692361176014, -0.003703584661707282, -0.04430735483765602, -0.020729221403598785, 0.01101579051464796, -0.0014337825123220682, -0.0035882717929780483, -0.011517741717398167, -0.011205717921257019, -0.003625578945502639, -0.02763443998992443, 0.006661026272922754, 0.0128540163859725, 0.00015251425793394446, 0.028027860447764397, -0.009136865846812725, -0.0013193172635510564, -0.013010028749704361, -0.0039342110976576805, -0.020078042522072792, -0.004982203245162964, -0.005965756252408028, -0.006518580485135317, -0.009333576075732708, -0.0151399290189147, 0.01153130829334259, -0.01433952059596777, 0.013695123605430126, 0.0061522917822003365, -0.01907414011657238, 5.174780380912125e-05, 0.0365474633872509, 0.012589475139975548, -0.019481128081679344, -0.0033779949881136417, 0.0016991720767691731, -0.018246598541736603, 0.016482986509799957, -0.007495350204408169, 0.011192151345312595, -0.02044432982802391, 0.010235731489956379, 0.007176543585956097, -0.011741585098206997, -0.019481128081679344, -0.0016084478702396154, 0.0016694959485903382, -0.007732759229838848, 0.0043174573220312595, 0.22639349102973938, -0.008119397796690464, -0.016184529289603233, 0.036276139318943024, 0.01759541966021061, 0.011144669726490974, 0.03413267061114311, 0.0064778816886246204, -0.005362058058381081, 0.02237073704600334, -0.028407715260982513, -0.0031846759375184774, 0.008153312839567661, -0.0033372961916029453, 0.020037343725562096, 0.01026964746415615, -0.00299644423648715, -0.0011031052563339472, -0.0388537235558033, 0.006128550972789526, 0.008967287838459015, -0.02421574667096138, -0.033183034509420395, -0.0024334450718015432, 0.03440399467945099, 0.009279311634600163, -0.004927938338369131, 0.014760074205696583, 0.016374457627534866, -0.0012692917371168733, -0.017419058829545975, 0.006677983794361353, -0.01670004613697529, -0.005599467549473047, -0.011341380886733532, 0.0008580649737268686, 0.006182815879583359, -0.00730542279779911, 0.04183829948306084, 0.010554538108408451, -0.021638160571455956, 0.004110571928322315, -0.003696801606565714, -0.03527223691344261, 0.0005888597806915641, 0.02124473825097084, -0.031907808035612106, -0.011293898336589336, 0.001853488152846694, 0.008383939042687416, -0.026535574346780777, -0.007047663908451796, 0.04056307300925255, 0.04121425002813339, 0.004086831118911505, 0.012114656157791615, 0.021041246131062508, 0.020620692521333694, -0.003995258826762438, 0.005273877643048763, -0.010785164311528206, 0.030117062851786613, -0.03391561284661293, 0.0014507402665913105, -0.005802961066365242, 0.0022265599109232426, -0.025965791195631027, 0.01045279111713171, 0.022343603894114494, -0.011232850141823292, 0.009503154084086418, -0.02786506712436676, -0.0002747164398897439, -0.007990517653524876, -0.01210787333548069, -0.030062798410654068, 0.01610313169658184, 0.013125341385602951, 0.011178585700690746, 0.007461434695869684, -0.0018060063011944294, -0.005904708057641983, -0.013111775740981102, 0.006036978680640459, -0.016862841323018074, -0.029086029157042503, 0.012121439911425114, -0.004100397229194641, -0.0001141472312156111, -0.004229276906698942, 0.0006990855326876044, -0.0046159145422279835, -0.0006291345926001668, -0.04612523317337036, 0.005833485163748264, 0.005209438037127256, 0.010812296532094479, -0.003978301305323839, -0.0028828270733356476, 0.0027352941688150167, -0.016374457627534866, -0.0011005615815520287, 0.026684803888201714, -0.006701724603772163, 0.012765835970640182, 0.002504667965695262, -0.00041440638597123325, -0.006101418286561966, 0.005362058058381081, -0.0015821632696315646, 0.010642718523740768, -0.029900003224611282, 0.0017068031011149287, 0.016944238916039467, 0.007895554415881634, 0.01587250642478466, 0.005270486231893301, -0.0205392949283123, 0.02729528397321701, -0.0012463986640796065, 0.018233032897114754, -0.03714437782764435, 0.011721235699951649, 0.012731920927762985, 0.0006231993320398033, -0.03220626339316368, -0.027118923142552376, 0.00868239626288414, 0.0028387366328388453, -0.03345435857772827, 0.020742787048220634, -0.008356806822121143, 0.01619809679687023, 0.008607782423496246, -0.009835527278482914, 0.0020569819025695324, 0.0016584733966737986, 0.011470260098576546, -0.013973231427371502, 0.013261004351079464, -0.003162630833685398, -0.015560482628643513, -0.009598118253052235, 0.02112264186143875, 0.007217241916805506, -0.024161482229828835, 0.03141942247748375, -0.015926770865917206, -0.023238977417349815, -0.021380402147769928, -0.01159235555678606, 0.00844498723745346, -0.010588454082608223, -0.007257940713316202, 0.01394609920680523, -0.010907260701060295, -0.047237664461135864, -0.027783669531345367, -0.011789066717028618, 0.028380583971738815, -0.03188067302107811, 0.013661208562552929, 0.003394952742382884, -0.014122460968792439, -0.036710258573293686, 0.020173005759716034, -0.1770123541355133, 0.016849275678396225, 0.0285705104470253, -0.032965973019599915, 0.01714773289859295, 0.0037476751022040844, 0.020837752148509026, 0.009740564040839672, -0.018368694931268692, -0.01330170314759016, 0.009808395057916641, 0.010920827277004719, -0.03709011152386665, -0.013600160367786884, 0.014448050409555435, 0.003927427809685469, -0.020254403352737427, 0.01919623650610447, 0.026806898415088654, 0.012636956758797169, 0.03217913210391998, 0.00011732681741705164, -0.0018144851783290505, -0.04406316205859184, -0.00036713649751618505, 0.007068013306707144, 0.0018365303985774517, 0.015207760035991669, 0.0038867290131747723, -0.012942197732627392, -0.013735822401940823, 0.004856715444475412, 0.023130446672439575, 0.010289996862411499, 0.006945917382836342, 0.009632033295929432, -0.016822142526507378, -0.010276430286467075, -0.039939023554325104, 0.016306625679135323, 0.005792786367237568, 0.023673096671700478, 0.0035306152421981096, 0.006169249769300222, -0.013959665782749653, 0.030849639326334, 0.007061230484396219, 0.011660187505185604, 0.006399875972419977, -0.031934939324855804, 0.019616790115833282, -0.014570146799087524, 0.005860617849975824, 0.018897779285907745, 0.00919113028794527, 0.018205899745225906, -0.007725976407527924, 0.011972210370004177, 0.0099915387108922, -0.010039021261036396, -0.018558623269200325, -0.03494664654135704, 0.0017466539284214377, -0.005511286668479443, 0.0006066655041649938, -0.010405309498310089, -0.009231829084455967, -0.014054629020392895, -0.03470245376229286, 0.015438386239111423, -0.018680719658732414, -0.01480077300220728, 0.002748860279098153, -0.03619474172592163, 0.014366652816534042, -0.0041580540128052235, -0.03760562837123871, 0.0008084633736871183, 0.008980853483080864, -0.01622522808611393, -0.014393785037100315, 0.03643893450498581, 0.01176871731877327, 0.00020497747755143791, -0.007685277611017227, 0.012087523937225342, -0.006437182892113924, 0.006016629282385111, -0.012833666987717152, -0.024853359907865524, 0.009462455287575722, -0.0171205997467041, -0.002808212535455823, -0.01154487393796444, 0.019725318998098373, 0.012725137174129486, 0.02215367741882801, -7.286557229235768e-05, 0.008492468856275082, -0.004059698898345232, 0.003308467799797654, 0.00868239626288414, -0.029764341190457344, 0.021081944927573204, 0.021068377420306206, -0.011300682090222836, 0.021556762978434563, 0.01467867661267519, 0.007257940713316202, -0.011863680556416512, -0.031229494139552116, 0.005769045557826757, 0.01588607206940651, 0.0099915387108922, -0.02456846833229065, -0.0004404789942782372, 0.010758032090961933, -0.014230990782380104, 0.00788877159357071, -0.03459392488002777, 0.04476860538125038, -0.0008631523232907057, -0.009123299270868301, 0.01101579051464796, 0.012603040784597397, -0.008845191448926926, -0.11949148029088974, -0.029167424887418747, 0.01251486036926508, 0.032504722476005554, -0.0006677135825157166, 0.02147536538541317, -0.004154662601649761, 0.017744647338986397, 0.003152456134557724, 0.02032223343849182, 0.0007580139208585024, -0.04612523317337036, -0.0038867290131747723, -0.002326610963791609, 0.01665934920310974, -0.011076838709414005, 0.004877064842730761, -0.026806898415088654, -0.01480077300220728, 0.007237591315060854, -0.004378505516797304, -0.008438204415142536, -0.016482986509799957, -0.014380219392478466, -0.011266766116023064, 0.007929470390081406, -0.01735122688114643, 0.050900548696517944, 0.03269464895129204, 0.0005011031753383577, 0.0059284488670527935, -0.009265745058655739, 0.026793332770466805, -0.018083803355693817, -0.027566608041524887, 0.0050262934528291225, -0.03630327060818672, 0.0026861163787543774, 0.014353087171912193, -0.006508405786007643, 0.0020586776081472635, 0.011809416115283966, 0.011076838709414005, -0.014393785037100315, -0.003618795657530427, -0.013328835368156433, -0.018707850947976112, 0.013573027215898037, 0.023103315383195877, -0.032152000814676285, -0.03679165616631508, 0.0006948460941202939, -0.0171205997467041, -0.0026284598279744387, 0.01507209800183773, -0.00274038128554821, 0.0017059552483260632, 0.035353634506464005, -0.01073089987039566, -0.0030931036453694105, 0.009320010431110859, -0.0022163852117955685, -0.007074796594679356, 0.020390065386891365, -0.007257940713316202, 0.0022859121672809124, -0.029655810445547104, -0.005467196460813284, 0.000482449569972232, -0.00783450622111559, -0.008411071263253689, 0.009869443252682686, -0.013566244393587112, 0.006094635464251041, -0.012494510971009731, -0.015465518459677696, -0.0285705104470253, -0.021054811775684357, 0.017527587711811066, -0.030659712851047516, -0.016971372067928314, -0.015546916052699089, 0.022316472604870796, 0.0015126363141462207, 0.02398511953651905, -0.0015626618405804038, 0.011219284497201443, -0.007346121594309807, 0.025083987042307854, -0.008763793855905533, 0.013905400410294533, 0.019345464184880257, 0.021543195471167564, -0.018300862982869148, -0.008451770059764385, 0.0009191130520775914, -0.0008610325749032199, 0.0032491155434399843, -0.003313555149361491, -0.014163159765303135, -0.031582217663526535, -0.01931833289563656, -0.06685445457696915, 0.017039204016327858, 0.008214361034333706, 0.0009640512289479375, 0.02079705335199833, -0.011063272133469582, -0.0047447942197322845, -0.002604719018563628, -0.001936581451445818, -0.013152474537491798, -0.007502133026719093, 0.007061230484396219, -0.005053426139056683, 0.012725137174129486, 0.010812296532094479, -0.02262849546968937, 0.020498596131801605, 0.025423143059015274, 0.020525727421045303, -0.00402578292414546, -0.020810618996620178, 0.008451770059764385, 0.019006308168172836, 0.0075224824249744415, -0.01096830889582634, 0.011605922132730484, 0.014434483833611012, -0.0076988437213003635, -0.015289157629013062, -0.008153312839567661, -0.006518580485135317, -0.029900003224611282, -0.007841289043426514, 0.05212151259183884, 0.015940336510539055, -0.03700871393084526, 0.004480252042412758, 0.019128404557704926, 0.005304401740431786, 0.01794814132153988, -0.023605264723300934, -0.017269829288125038, -0.0015974253183230758, -0.003957951907068491, -0.02273702621459961, -0.009896575473248959, -0.007339338306337595, 0.037985485047101974, 0.006918784696608782, -0.001614383072592318, 0.027607306838035583, 0.0077734580263495445, 0.00550789525732398, -0.00754283182322979, -0.014190291985869408, -0.03584201633930206, 0.007780241314321756, -0.009984755888581276, -0.005680864676833153, -0.03356288745999336, 0.02479909546673298, 0.03207060322165489, 0.0007134996703825891, -0.01657795161008835, 0.02376805990934372, 0.008261842653155327, -0.027946462854743004, -0.00953707005828619, 0.016971372067928314, -0.015519783832132816, -0.012813317589461803, 0.01067663449794054, 0.019847415387630463, -0.0020535902585834265, 0.026440611109137535, -0.015953904017806053, -0.016482986509799957, -0.006566062569618225, 0.0039342110976576805, 0.006823820993304253, 0.000523148279171437, 0.00948280468583107, -0.016252361238002777, 0.009041901677846909, 0.02786506712436676, 0.026318514719605446, 0.0002870108583010733, 0.013647641986608505, 0.014136026613414288, 0.017052769660949707, 0.009116516448557377, -0.006298128981143236, 0.023279676213860512, -0.011741585098206997, 0.0035747054498642683, 0.015587614849209785, -0.004622697830200195, -0.008824842050671577, 0.00021101869060657918, 0.021909484639763832, 0.008580649271607399, -0.03131089359521866, 0.013098209165036678, -0.005301009863615036, -0.023686662316322327, 0.019101271405816078, -0.01480077300220728, -0.017907442525029182, -0.007230808492749929, 0.010235731489956379, 0.011673753149807453, 0.007183326408267021, 0.00577243696898222, 0.021841654554009438, -0.015058531425893307, 0.01737836003303528, -0.00029697356512770057, -0.021054811775684357, -0.01547908503562212, 0.022899821400642395, 0.013573027215898037, 0.012989679351449013, 0.017215564846992493, -0.01118536852300167, 0.015384120866656303, 0.023795193061232567, -0.0070815798826515675, -0.02466343343257904, 0.012250319123268127, -0.009150431491434574, 0.006182815879583359, 0.008614565245807171, -0.017337661236524582, -0.007610663305968046, -0.015587614849209785, -0.002430053660646081, 0.00029866935801692307, 0.015031399205327034, -0.03340009227395058, 0.052501365542411804, -0.005494329147040844, -0.014936435036361217, 0.008743444457650185, -0.005328142549842596, 0.024514203891158104, -0.006925567984580994, 0.0028709564357995987, -0.028733305633068085, 0.0006694094045087695, 0.02123117260634899, -0.020173005759716034, 0.021163340657949448, -0.02066139131784439, -0.02536887675523758, -0.007061230484396219, -0.016618650406599045, 0.033535756170749664, -0.013674774207174778, 0.0019857590086758137, 0.03576062247157097, 0.008845191448926926, 0.0320163369178772, -0.01324743777513504, -0.007671711500734091, -0.031120965257287025, 0.02832631953060627, 0.0010267951292917132, -0.013552678748965263, -0.02797359600663185, 0.0015524871414527297, 0.015302724204957485, -0.022085845470428467, -0.004144487902522087, 0.021285437047481537, -0.012046825140714645, -0.011924728751182556, -0.013715473003685474, 0.011293898336589336, 0.01736479252576828, -0.008261842653155327, 0.0171341672539711, 0.003710367949679494, -0.02389015629887581, 0.027213886380195618, 0.0014320866903290153, -0.02433784306049347, 0.0011616096599027514, -0.03038838692009449]\n"
          ]
        }
      ],
      "source": [
        "print(sun_embeddings)"
      ]
    },
    {
      "cell_type": "code",
      "execution_count": null,
      "id": "7ae814c7",
      "metadata": {
        "id": "7ae814c7"
      },
      "outputs": [],
      "source": [
        "response = get_embeddings(\"moon\",\"text-embedding-ada-002\")"
      ]
    },
    {
      "cell_type": "code",
      "execution_count": null,
      "id": "278a7289",
      "metadata": {
        "id": "278a7289"
      },
      "outputs": [],
      "source": [
        "moon_embeddings = response.data[0].embedding"
      ]
    },
    {
      "cell_type": "code",
      "execution_count": null,
      "id": "d242db5a",
      "metadata": {
        "id": "d242db5a",
        "outputId": "4dbce094-0458-401e-8878-6b61436d80c5"
      },
      "outputs": [
        {
          "name": "stdout",
          "output_type": "stream",
          "text": [
            "[0.017546771094202995, -0.009298109449446201, 0.0021268813870847225, -0.01645534485578537, -0.02790132537484169, 0.008332617580890656, -0.020723100751638412, -0.012418468482792377, 0.005124804563820362, -0.034002114087343216, 0.006667492911219597, 0.017910579219460487, 0.015629779547452927, -0.0035331416875123978, -0.013866706751286983, 0.00218285177834332, 0.039879024028778076, -0.021002953872084618, 0.009466021321713924, -0.016329411417245865, 0.014972125180065632, -0.002448712009936571, 0.016161499544978142, -0.003799001919105649, -0.007118755951523781, 0.0034509350080043077, 0.00931909866631031, -0.003522647311910987, -0.0007901469361968338, -0.013104107230901718, 0.016497323289513588, -0.01695908047258854, -0.028195170685648918, -0.0015365667641162872, -0.007744926493614912, -0.0020201874431222677, 0.004970885347574949, -0.007863864302635193, 0.0010372044052928686, -0.004530117381364107, 0.013467916287481785, 0.012628357857465744, 0.0008290639379993081, 0.005205261986702681, -0.008339613676071167, 0.031567394733428955, 0.033246513456106186, -0.000854425597935915, -0.007591007277369499, 0.019002005457878113, -0.01451036799699068, 0.023563606664538383, -0.029888279736042023, -0.020219365134835243, -0.01323703769594431, 0.014636301435530186, 0.005352185107767582, 0.003683562623336911, 0.008927304297685623, -0.010851292870938778, -0.012677332386374474, 0.0020814051385968924, 0.0068983715027570724, 0.022472180426120758, -0.0008526765159331262, 0.00606580963358283, -0.015475859865546227, -0.0002652042603585869, 0.0024854426737874746, 0.004774988628923893, 0.017854608595371246, 0.0020621654111891985, -0.007094268687069416, -0.008822360076010227, 0.015112051740288734, -0.020191380754113197, -0.010235616005957127, -0.011844770051538944, 0.01296418160200119, 0.0015549322124570608, 0.02678191289305687, -0.000805888616014272, -0.022304268553853035, 0.009752870537340641, -0.019281858578324318, 0.02258412167429924, -0.010928251780569553, 0.0019257371313869953, -0.004306234885007143, 0.004907918628305197, 0.0012173596769571304, 0.023619577288627625, 0.023213790729641914, 0.02623620070517063, -0.023815473541617393, 0.012754291296005249, 0.004540611989796162, 0.03696855530142784, 0.009885800071060658, -0.017602741718292236, 0.00873140711337328, 0.01410458143800497, -0.04256561025977135, -0.01488816924393177, -0.015223992988467216, 0.006691980175673962, 0.02662799507379532, -0.003010166808962822, 0.023129833862185478, -0.012544401921331882, 0.002669096225872636, 0.025956347584724426, 0.014594323933124542, -0.045951832085847855, -0.019785594195127487, -0.00698582548648119, 0.0023210293147712946, 0.0011255330173298717, 0.008045768365263939, -0.005348686594516039, 0.034058086574077606, 0.009766862727701664, 0.037948042154312134, -0.007821885868906975, 0.0035366397351026535, 0.005911890417337418, -0.022570129483938217, -0.036940570920705795, 0.014398426748812199, 0.0034404403995722532, 0.02627817913889885, 0.0035139017272740602, 0.018764130771160126, 0.005264731124043465, 0.007500055246055126, 0.032322999089956284, -0.03307860344648361, 0.008766389451920986, 0.0014517364325001836, 0.001969464123249054, -0.01202667411416769, 0.04239770025014877, -0.026460083201527596, -0.0019152426393702626, -0.00023284628696274012, 0.010711366310715675, 0.00486244261264801, 0.007584011182188988, 0.016735197976231575, -0.012215575203299522, 0.02030332200229168, -0.02865692786872387, 0.017001057043671608, -0.020793063566088676, 0.009605947881937027, 0.018722152337431908, -0.003805998247116804, 0.034002114087343216, -0.005037350580096245, -0.0076049999333918095, 0.005261232610791922, 0.005565572530031204, 0.02374551072716713, -0.013167074881494045, 0.030503956601023674, 0.02602631039917469, 0.019071968272328377, -0.0061392709612846375, -0.0038584705907851458, -0.010312575846910477, -0.01177480723708868, 0.02552257664501667, -0.021184857934713364, 0.015056081116199493, -0.02648806758224964, 0.03184724971652031, 0.017504792660474777, -0.0012234814930707216, -0.00894129741936922, -0.015419889241456985, -0.024850929155945778, -0.0002962504222523421, 0.021912474185228348, 0.0069193607196211815, -0.024599062278866768, -0.0009488759096711874, 0.016833147034049034, -0.0013695296365767717, 0.012726305983960629, -0.02896476536989212, 0.0010651897173374891, 0.004677040036767721, 0.02664198726415634, -0.007318150717765093, -0.6667213439941406, -0.032686807215213776, 0.006454105488955975, 0.009598950855433941, 0.0014202529564499855, 0.00033341837115585804, 0.02902073599398136, 0.0014246257487684488, -0.00709077063947916, -0.013376964256167412, -0.00761899258941412, 0.013705790974199772, -0.014720257371664047, -0.0003662136441562325, -0.010648399591445923, -0.009682906791567802, -0.016931094229221344, 0.005383668467402458, 0.003181576495990157, 0.001293444656766951, -0.016973072662949562, 0.009249134920537472, 0.008283643051981926, -0.018512263894081116, 0.00436570355668664, 0.0047644940204918385, 0.015769705176353455, -0.011844770051538944, -0.014223518781363964, 0.03254688158631325, -0.012621361762285233, 0.023171812295913696, 0.012922203168272972, -0.014139562845230103, 0.022500164806842804, -0.039571188390254974, -0.03215508908033371, 0.036884598433971405, 0.00800378993153572, 0.027369603514671326, -0.01974361576139927, -0.003400211688131094, 0.027271656319499016, -0.0014657290885224938, -0.016189483925700188, -0.012740299105644226, 0.03542936593294144, -0.01970163732767105, -0.010893270373344421, -0.002864993177354336, 0.0027163212653249502, 0.026809899136424065, 0.006125278305262327, 0.03302263095974922, -0.0037290386389940977, -0.006275699008256197, 0.029328573495149612, -0.000536967592779547, -0.013453924097120762, 0.00442867074161768, -0.0071047632955014706, -0.016735197976231575, -0.005684510339051485, -0.019323837012052536, -0.00838159117847681, 0.005275225266814232, -0.02374551072716713, 0.012369493953883648, 0.01575571298599243, -0.03145545721054077, 0.008962285704910755, 0.009375069290399551, 0.002343767322599888, -0.008290639147162437, 0.010543454438447952, 0.028740882873535156, 0.0390954352915287, -0.026152243837714195, -0.0005601428565569222, 0.01410458143800497, 0.013684801757335663, -0.022416209802031517, -0.025956347584724426, -0.010599425062537193, 0.038004010915756226, -0.002223080722615123, -0.009920782409608364, 0.004495135508477688, 0.03151142597198486, 0.00885734148323536, 0.02343767322599888, 0.0192398801445961, 0.007702948525547981, -0.017546771094202995, 0.00437969621270895, 0.023619577288627625, -0.002586889313533902, -0.008773385547101498, 0.03761221840977669, -0.011376016773283482, -0.00030062312725931406, -0.0011937471572309732, 0.011795795522630215, -0.0015243232483044267, 0.03397412970662117, -0.007968808524310589, -0.016679227352142334, 0.0055795651860535145, 0.03209911659359932, -0.044636521488428116, 0.009675910696387291, 0.012691324576735497, -0.016161499544978142, -0.011662865988910198, 0.010599425062537193, -0.03335845470428467, -0.0021426230669021606, 0.008374595083296299, 0.014167548157274723, -0.02653004601597786, 0.011501950211822987, -0.0104804877191782, 0.004439165350049734, -0.008549503050744534, -0.004645556677132845, -0.002279051346704364, 0.011047189123928547, -0.019225887954235077, -0.012362497858703136, 0.008493532426655293, -0.0043342201970517635, 0.016175491735339165, 0.008528513833880424, -0.02455708384513855, 0.024669025093317032, 0.0008666691719554365, 0.016385382041335106, -0.03361032158136368, -0.011606895364820957, -0.013726780191063881, -0.015182014554738998, 0.0041138362139463425, 0.01177480723708868, -0.006223226897418499, -0.008094741962850094, -0.02264009229838848, -0.0009121452458202839, -0.01359384972602129, -0.009689903818070889, 0.019435778260231018, -0.01863819733262062, -0.01332099363207817, 0.003489414695650339, 0.013153081759810448, 0.02430521696805954, -0.0047644940204918385, 0.002270305994898081, -0.009060234762728214, -0.011089167557656765, -0.011837773956358433, -0.0018365340074524283, 0.015000110492110252, -0.024333201348781586, -0.008983274921774864, 0.020177386701107025, -0.03545735031366348, 0.007097766734659672, 0.022612106055021286, -0.008682433515787125, -0.05087723955512047, 0.013831725344061852, 0.006831906735897064, 0.0024627046659588814, 0.009361076168715954, 0.014762235805392265, -0.0014027621364220977, -0.0023909923620522022, -0.010802318342030048, -0.009864811785519123, 0.03022410348057747, 0.013845717534422874, 0.021226834505796432, -0.028237147256731987, 0.0017254675040021539, 0.003956418950110674, 0.014167548157274723, 0.023101849481463432, 0.009990745224058628, 0.0017709435196593404, -0.011522939428687096, 0.00023459535441361368, 0.035065557807683945, 0.02353562042117119, -0.008752396330237389, 0.00502685597166419, -0.019421784207224846, -0.00021524616749957204, -0.002107641426846385, 0.016539301723241806, 0.014636301435530186, 0.02850300818681717, -0.018512263894081116, 0.0028090225532650948, -0.017630726099014282, 0.010445506311953068, -0.03873162716627121, 0.004677040036767721, -0.019155925139784813, 0.010319571942090988, 0.019281858578324318, 0.018470285460352898, -0.028475023806095123, -0.028796853497624397, -0.01253040973097086, 0.028740882873535156, 0.00850752554833889, 0.007055788766592741, -0.017798637971282005, 0.0005413402686826885, -0.013111104257404804, -0.001976460451260209, 0.008570492267608643, 0.006712969392538071, -0.016875123605132103, 0.01792457140982151, 0.02556455321609974, 0.0267399363219738, 0.005474620498716831, 0.003228801768273115, -0.02475298009812832, 0.005159785971045494, -0.01045949850231409, -0.017504792660474777, 0.018204424530267715, 0.006069307681173086, 0.008899318985641003, 0.009207157418131828, -0.006331669632345438, 0.017938565462827682, 0.012621361762285233, -0.016287432983517647, 0.03184724971652031, 0.0239414069801569, -0.020681122317910194, 0.001537441392429173, -0.0020131911151111126, 0.004474146757274866, 0.0026813396252691746, 0.0006113034905865788, 0.006314178928732872, -0.016679227352142334, 0.011376016773283482, -0.014594323933124542, -0.0021496193949133158, 0.0025274206418544054, -0.011040193028748035, 0.008920308202505112, 0.01863819733262062, 0.011376016773283482, 0.03528944030404091, 0.0162594486027956, 0.011942718178033829, -0.02208038605749607, -0.0018295376794412732, 0.022066393867135048, 0.0001132529359892942, 0.017602741718292236, -0.028069237247109413, 0.019015997648239136, -0.0031098644249141216, -0.005352185107767582, -0.015909632667899132, 0.012985169887542725, -0.018918050453066826, 0.005520096514374018, -0.019981490448117256, -0.015573808923363686, 0.02005145326256752, 0.007132748607546091, -0.008990271016955376, -0.028237147256731987, -0.011942718178033829, 0.0076049999333918095, 0.004320227541029453, 0.0023647563066333532, -0.017532778903841972, -0.019869549199938774, -0.014664286747574806, 0.0069928220473229885, 0.020974967628717422, -0.01240447536110878, 0.007451081182807684, -0.0011666363570839167, -0.021100901067256927, -0.010697373189032078, -0.02020537294447422, 0.01323703769594431, -0.0069753313437104225, 0.008171701803803444, -0.005516598466783762, -0.00927012413740158, -0.009703896008431911, 0.014468390494585037, -0.01245344989001751, 0.019407792016863823, 0.005292715970426798, -0.014762235805392265, -0.026977811008691788, -0.012425464577972889, -0.00698582548648119, -0.015042087994515896, -0.0096968999132514, -0.02876886911690235, -0.006272200960665941, 0.006020333617925644, -0.0020534200593829155, -0.008339613676071167, -0.037640202790498734, 0.02384345978498459, 0.019631674513220787, 0.0030888754408806562, -0.006513574160635471, -0.026558030396699905, 0.002885982161387801, 0.07578413933515549, 0.015559815801680088, 0.015405897051095963, 0.013453924097120762, 0.006394636817276478, -0.018358344212174416, -0.030923735350370407, -0.022724047303199768, 0.0040403748862445354, -0.007444084621965885, 0.017043035477399826, -0.024319209158420563, -0.016371389850974083, 0.00032664070022292435, 0.014244507998228073, 0.0019502242794260383, 0.008115731179714203, -0.009906789287924767, 0.029188647866249084, 0.01639937423169613, -0.014594323933124542, -0.02515876665711403, 0.016875123605132103, 0.028279125690460205, 0.004362205509096384, 0.00041540651000104845, 0.00029493862530216575, 0.011285064741969109, 0.0208070557564497, -0.02890879474580288, -0.002109390450641513, 0.013425938785076141, -0.005513100419193506, 0.003337244736030698, -0.010172649286687374, 0.013418941758573055, 0.013831725344061852, -0.00218285177834332, 0.033442411571741104, -0.016371389850974083, 0.02252815105021, 0.020065445452928543, -0.010445506311953068, -0.026697957888245583, 0.03853573277592659, -0.0019187408033758402, 0.0069368514232337475, 0.03584914281964302, -0.006545057520270348, -0.014328463934361935, 0.030364029109477997, 0.00883635226637125, 0.002758299233391881, 0.005775462370365858, -0.0016983567038550973, 0.026655979454517365, 0.01883409358561039, 0.010081697255373001, -0.006548555567860603, -0.019057976081967354, -0.005967861041426659, -0.016161499544978142, 0.0023420180659741163, -0.0026795906014740467, -0.005429144483059645, -0.037192437797784805, -0.007304158061742783, -0.012999163009226322, -0.020821047946810722, -0.009808841161429882, -0.021002953872084618, 0.0008727909298613667, -0.019435778260231018, -0.011390008963644505, -0.0012750793248414993, 0.022961921989917755, 0.02384345978498459, -0.017434829846024513, 0.022164342924952507, 0.010095690377056599, 0.002637612633407116, 0.003255038056522608, -0.00042939913691952825, -0.010564443655312061, -0.03699653968214989, 0.003471923992037773, 0.018498269841074944, -0.012194585986435413, -0.011837773956358433, 0.0011334038572385907, -0.002221331698819995, 0.0030049195047467947, 0.0069998181425035, -0.007381117902696133, -0.01002572663128376, 0.006653500255197287, 0.017686696723103523, 0.004484641365706921, -0.006737456191331148, 0.013006159104406834, 0.016035566106438637, -0.017742667347192764, 0.0037290386389940977, -0.00588740361854434, -0.012803265824913979, 0.020541196689009666, 0.016133515164256096, 0.029608426615595818, -0.018708160147070885, -0.013558868318796158, 0.004596582148224115, -0.027355611324310303, 0.01283824723213911, -0.0020061947870999575, -0.0012986919609829783, -0.001546186744235456, -0.019477754831314087, 0.004540611989796162, 0.003994898870587349, -0.019715629518032074, -0.02105892449617386, -0.013327989727258682, 0.02121284231543541, 0.025242723524570465, -0.01202667411416769, -0.011362023651599884, 0.008766389451920986, -0.000821193098090589, -0.0024941880255937576, -0.003092373488470912, 0.0033897170796990395, 0.027369603514671326, 0.003150093136355281, -0.00603782432153821, -0.0056915064342319965, 0.0021268813870847225, -0.010823307558894157, 0.005460627842694521, -0.006943847984075546, -0.02536865696310997, -0.00627919752150774, -0.005992348305881023, -0.0095429802313447, -0.027103744447231293, -0.0017604490276426077, -0.055522795766592026, 0.000260394299402833, -0.0007359254523180425, 0.004309733398258686, 0.020037461072206497, -0.016427360475063324, 0.011047189123928547, -0.010907263495028019, 0.009431039914488792, -0.0018750138115137815, -0.025746457278728485, 0.0008032650221139193, -0.013125096447765827, 0.03545735031366348, 0.010641402564942837, 0.020429255440831184, 0.00880836695432663, 0.035009585320949554, -0.005908392369747162, 0.0042607588693499565, 0.00924213882535696, 0.02304587885737419, 0.004337718710303307, -0.024179281666874886, 0.00436570355668664, 0.0035121527034789324, 0.008997268043458462, -0.0017569508636370301, -0.00618824502453208, -0.008234668523073196, 0.010613417252898216, -0.022696062922477722, -0.013230041600763798, -0.03545735031366348, -0.020891012623906136, -0.005978355649858713, -0.002611376577988267, -0.0208070557564497, -0.008766389451920986, 0.005474620498716831, -0.02374551072716713, 0.02217833511531353, -0.001962467795237899, -0.00957096554338932, -0.01283824723213911, 0.019029991701245308, -0.004397187381982803, 0.031007690355181694, 0.007360128685832024, -0.0020306818187236786, 0.006328171584755182, 0.005355683155357838, 0.010270598344504833, 0.0024049850180745125, 0.00918616820126772, -0.0053976611234247684, 0.011767810210585594, -0.005876909010112286, -0.008304632268846035, -0.012222571298480034, 0.00020376782049424946, -0.02598433382809162, 0.005166782531887293, 0.019883541390299797, -0.025634517893195152, 0.010004737414419651, -0.018946034833788872, -0.02142273262143135, -0.03576518967747688, 0.019351821392774582, 0.00722719868645072, 0.007989797741174698, -0.008528513833880424, -0.01676318235695362, -0.007150239311158657, 0.018204424530267715, -0.009333090856671333, 0.02212236449122429, 0.0024697009939700365, 0.02865692786872387, 0.023759502917528152, 0.004624567460268736, -0.025046825408935547, 0.004439165350049734, -0.015126043930649757, -0.01838632859289646, 0.015615786425769329, 0.0071397447027266026, 0.016091536730527878, 0.011893744580447674, 0.004561600740998983, -0.006321175489574671, -0.008682433515787125, -0.03109164722263813, 0.025494590401649475, 0.013551872223615646, -0.013307000510394573, -0.017336880788207054, -0.017099006101489067, -0.026977811008691788, 0.041390229016542435, -0.024375179782509804, 0.005946872290223837, -0.0208070557564497, -0.004176802933216095, -0.006870386190712452, 0.019869549199938774, -0.02117086388170719, 0.007185220718383789, 0.007835878990590572, -0.015363918617367744, 0.010137667879462242, -0.011131145060062408, -0.0007201837142929435, 0.0021111397072672844, -0.005754473153501749, 0.049589917063713074, -0.03047597035765648, -0.005513100419193506, -0.018568234518170357, 0.0009156434098258615, -0.01707102172076702, -0.030196117237210274, -0.017238933593034744, 0.03316255658864975, -0.012544401921331882, 0.00845855101943016, 0.010319571942090988, -0.002651605289429426, 0.0013966404367238283, 0.022136356681585312, 0.0004412054258864373, -0.012313523329794407, -0.0015120797324925661, -0.0008592355879954994, 0.025746457278728485, 0.007262180093675852, -0.016385382041335106, -0.01757475547492504, -0.021408740431070328, -0.01837233640253544, -0.023101849481463432, -0.003610101295635104, 0.007108261343091726, -0.003540138015523553, -0.02131079137325287, -0.0016869876999408007, -0.0024452139623463154, -0.0011911235051229596, 0.012299531139433384, -0.03554130718111992, -0.013845717534422874, 0.025340670719742775, -0.027719421312212944, 0.03254688158631325, -0.004946398548781872, 0.01210363395512104, -0.013006159104406834, -0.004753999412059784, 0.005324199795722961, -0.03148344159126282, 0.0014937144005671144, -0.009403054602444172, -0.030447985976934433, -0.003211311064660549, -0.000984732061624527, 0.0161055289208889, -0.003506905399262905, -0.012215575203299522, 0.008143716491758823, 0.011704843491315842, -0.013740772381424904, -0.012446453794836998, -0.028992751613259315, 0.03604504093527794, -0.03058791160583496, 0.009088220074772835, 0.012691324576735497, 0.001276828465051949, -0.01848427765071392, -0.008542506955564022, 0.0018295376794412732, 0.013146085664629936, -0.01944977045059204, -0.016735197976231575, -0.014041614718735218, 0.01164187677204609, -0.006475094240158796, -0.024081334471702576, -0.019981490448117256, -0.003966913558542728, -0.0022598113864660263, 0.00721320603042841, 0.003442189423367381, 0.006866888143122196, 0.01448238268494606, 0.04236971586942673, 0.013076121918857098, 0.015028095804154873, -0.025284701958298683, -0.015126043930649757, -0.014524360187351704, -0.02035929076373577, -0.01331399753689766, -0.011655868962407112, -0.02045723982155323, 0.0531720332801342, 0.034309953451156616, -0.02577444352209568, -0.015531830489635468, 0.004190795589238405, -0.008752396330237389, -0.01139700599014759, 0.011557920835912228, 0.0005500856786966324, 0.012712313793599606, -0.01879211515188217, -0.012628357857465744, 0.02784535475075245, -0.0040753562934696674, 0.0297203678637743, -0.030447985976934433, -0.0013161827810108662, 0.013083118945360184, -0.004652552772313356, 0.012061655521392822, -0.007283169310539961, 0.00262012192979455, -0.01705702766776085, 0.004054367542266846, 0.011529935523867607, 0.0040053934790194035, 0.023003900423645973, -0.013600846752524376, -0.009556973353028297, -0.012257552705705166, -0.0042047882452607155, 0.00032620341517031193, 0.01451036799699068, 0.004572095349431038, -0.011348031461238861, -0.005142295267432928, 0.002798528177663684, 0.01486018393188715, -0.041446201503276825, -0.0022685567382723093, 0.004348212853074074, -0.005981853697448969, 0.010277594439685345, 0.01245344989001751, 0.009815837256610394, 0.010473491623997688, -0.024431150406599045, -0.014594323933124542, 0.004264256916940212, -0.014195533469319344, 0.00850752554833889, -0.008192691020667553, -0.02506081946194172, -0.004257260821759701, 0.009605947881937027, 0.009780855849385262, 0.005450133234262466, 0.007905841805040836, 0.004488139413297176, -0.011886747553944588, -0.0036520790308713913, 0.015909632667899132, -0.012243560515344143, 0.018708160147070885, 0.005702001042664051, -0.014132566750049591, -0.00919316429644823, 0.011536931619048119, 0.016483331099152565, -0.017756661400198936, -0.004400685429573059, -0.011914732865989208, -0.020891012623906136, -0.0030731335282325745, 0.005621543154120445, 0.0023297746665775776, -0.02132478356361389, -0.01015166100114584, 0.0037815109826624393, -0.0027145722415298223, 0.0061567616648972034, 0.004306234885007143, 0.007835878990590572, -0.01827438734471798, 0.014846191741526127, 0.20182985067367554, -0.00929111335426569, -0.005303210578858852, 0.037892069667577744, 0.0040053934790194035, -0.007111759390681982, 0.05166082829236984, 0.011250082403421402, 0.012943192385137081, 0.006097292993217707, -0.008304632268846035, -0.0069368514232337475, 0.004404183477163315, 0.0014263747725635767, -0.0017359619960188866, -0.006478592287749052, -0.013048137538135052, 0.007863864302635193, -0.023633569478988647, -0.015335934236645699, 0.012460445985198021, -0.009179172106087208, -0.011306053027510643, -0.006573042832314968, 0.019057976081967354, -0.006779434159398079, -0.012817258946597576, 0.014538353309035301, 0.017294904217123985, 0.011173123493790627, -0.028181178495287895, -0.015979595482349396, -0.014223518781363964, -0.008626462891697884, -0.004974383860826492, 0.008696425706148148, 0.0001088255739887245, -0.006559050176292658, 0.015965603291988373, 0.008983274921774864, -0.030671868473291397, 0.0016082790680229664, 0.0012602121569216251, -0.011956711299717426, -0.005117808002978563, 0.021408740431070328, -0.009256131947040558, -0.0037710166070610285, 0.008556499145925045, 0.007898845709860325, -0.03215508908033371, 0.013866706751286983, 0.01798054203391075, 0.03109164722263813, -0.0040578655898571014, 0.004211784806102514, 0.0281531922519207, 0.014230514876544476, -0.008262653835117817, 0.0024382176343351603, -0.01893204264342785, 0.02303188666701317, -0.034309953451156616, 0.010662391781806946, -0.01159290224313736, 0.010501476936042309, -0.0030136648565530777, -0.010669387876987457, 0.002508180681616068, -0.009934774599969387, -0.010396531783044338, -0.01691710203886032, -0.012292534112930298, -0.007653974462300539, -0.010487483814358711, -0.06867587566375732, 0.019715629518032074, 0.01705702766776085, 0.009808841161429882, 0.04735109582543373, -0.007800897117704153, 0.014440405182540417, 0.0008684182539582253, -0.012761288322508335, -0.009445032104849815, -0.024934884160757065, 0.01686113141477108, 0.01162088755518198, 0.0028510005213320255, 0.010235616005957127, -0.008367598988115788, -0.013866706751286983, 0.004460154101252556, -0.032183073461055756, 0.00627919752150774, -0.001284699304960668, -0.0030958717688918114, 0.0023245273623615503, -0.008451554924249649, -0.018316365778446198, -0.014692272059619427, -0.022262290120124817, 0.027481544762849808, 0.003896950278431177, 0.003319753799587488, -0.009158182889223099, -0.007367125246673822, -0.00292970915324986, -0.0009899792494252324, -0.011522939428687096, 0.007674963213503361, -0.02637612633407116, -0.013796743005514145, 0.0016091535799205303, 0.007863864302635193, 0.02020537294447422, 0.016189483925700188, -0.0032655324321240187, 0.014538353309035301, -0.018624205142259598, -0.008843348361551762, -0.02273804135620594, 0.03204314783215523, 0.007500055246055126, -0.004211784806102514, -0.027425574138760567, -0.03778012841939926, 0.007926831021904945, 0.019071968272328377, -0.022136356681585312, -0.003914440982043743, -0.01331399753689766, 0.01316007785499096, 0.002896476536989212, -0.014188537374138832, -0.010648399591445923, 0.018848085775971413, -0.014538353309035301, -0.0022160843946039677, 0.004705025348812342, -0.006146267056465149, 0.005362679250538349, 0.00012954123667441308, 0.033498380333185196, 0.011327042244374752, -0.036380864679813385, 0.01002572663128376, -0.019379807636141777, -0.026348141953349113, -0.008486536331474781, -0.02252815105021, 0.012670335359871387, -0.017532778903841972, 0.007954816333949566, 0.022724047303199768, -0.009207157418131828, -0.03165135160088539, -0.02293393760919571, 0.0032095618080347776, 0.018904056400060654, -0.0488063283264637, 0.0047994754277169704, 0.0063421642407774925, -0.021226834505796432, -0.03296666219830513, 0.0049289073795080185, -0.18235209584236145, 0.00027701054932549596, 0.014041614718735218, -0.032686807215213776, 0.025396641343832016, -0.0013765259645879269, -0.001196370692923665, -0.007828881964087486, -0.010410523973405361, -0.026418104767799377, 0.004061363637447357, 0.0012829501647502184, -0.03498160094022751, -0.015000110492110252, 0.00847954023629427, 0.0028614948969334364, -0.021478703245520592, 0.00477149011567235, 0.013530883006751537, 0.004155814182013273, 0.012733303010463715, -0.025788435712456703, 0.004495135508477688, -0.027635464444756508, 0.002205590019002557, 0.006744452752172947, -0.012355501763522625, 0.01007470116019249, -0.008843348361551762, 0.0038584705907851458, -0.034309953451156616, -0.008794374763965607, 0.026767920702695847, 0.008682433515787125, 0.03428196907043457, 0.0011360275093466043, -0.004369202069938183, -0.012138615362346172, -0.015573808923363686, 0.011431987397372723, -0.01240447536110878, 0.030671868473291397, 0.005929381120949984, 0.016973072662949562, 0.006856393534690142, 0.02557854726910591, 0.019771600142121315, -0.0011517691891640425, 0.02049921825528145, -0.01237649004906416, -0.0025903875939548016, -0.024627046659588814, 0.007982801645994186, 0.009060234762728214, 0.012516416609287262, 0.03028007410466671, 0.01827438734471798, 0.014972125180065632, 0.011690851300954819, -0.009102212265133858, -0.013041140511631966, -0.022318260744214058, -0.011683854274451733, -0.0040648621506989, 0.006009839009493589, -0.015363918617367744, -0.0028037752490490675, 0.020821047946810722, -0.015196007676422596, 0.010179645381867886, 0.002375250682234764, 0.005429144483059645, 0.01686113141477108, -0.0319032184779644, -0.0005518347606994212, 0.014958132058382034, -0.0378640852868557, 0.015489852987229824, 0.0076959519647061825, -0.01707102172076702, -0.001139525673352182, 0.04035477340221405, -0.006740954238921404, 0.00048536970280110836, -0.003606603015214205, -0.009661918506026268, -0.004194294102489948, 0.01600757986307144, -0.004666545428335667, 0.0013765259645879269, 0.01002572663128376, -0.014356449246406555, -0.016693219542503357, -0.009514995850622654, 0.012642350979149342, 0.016091536730527878, 0.011075174435973167, 0.012978173792362213, 0.024165289476513863, 0.002457457361742854, 0.02910469099879265, 0.011606895364820957, -0.021856503561139107, 0.0265860166400671, 0.016721205785870552, 0.005348686594516039, 0.025074811652302742, 0.00525423651561141, 0.01412557065486908, -0.02212236449122429, -0.05068134143948555, 0.016441352665424347, 0.00012418467667885125, 0.010683380998671055, -0.008969282731413841, 0.010718362405896187, 0.00835360586643219, 0.003701053326949477, -0.014762235805392265, -0.028475023806095123, 0.04763094708323479, -0.017742667347192764, -0.018694167956709862, 0.014412419870495796, 0.012460445985198021, -0.0031920711044222116, -0.15089663863182068, -0.034253984689712524, 0.005436140578240156, 0.030755823478102684, -0.005988850258290768, 0.022808004170656204, 0.001974711427465081, 0.020373284816741943, -0.007276172749698162, 0.0264320969581604, -0.020219365134835243, -0.02405334822833538, -0.00959195476025343, 0.011676858179271221, 0.003480669343844056, -0.010928251780569553, 0.011935722082853317, -0.011180119588971138, -0.007667967118322849, 0.010361550375819206, 0.014636301435530186, 0.002488940954208374, -0.015825675800442696, -0.006321175489574671, -0.011103159748017788, 0.008290639147162437, -0.025606531649827957, 0.030112162232398987, -0.00047050253488123417, -0.018218418583273888, 0.0028597458731383085, -0.016133515164256096, 0.0095429802313447, -0.028530994430184364, -0.02664198726415634, 0.0009812338976189494, -0.029244618490338326, 0.019309842959046364, 0.039263349026441574, -0.024025363847613335, 0.015405897051095963, 0.028447037562727928, 0.00810173898935318, -0.021548666059970856, 0.001318806316703558, 0.0039004485588520765, -0.041949935257434845, 0.01842830702662468, 0.0038759612943977118, -0.02370353229343891, -0.03498160094022751, -0.0178266242146492, -0.025900376960635185, -0.01318806316703558, 0.029328573495149612, -0.0015916628763079643, 0.01356586441397667, 0.031875234097242355, -0.00242422497831285, 0.005352185107767582, -0.008850345388054848, -0.011005211621522903, -0.005051343236118555, 0.02324177511036396, -0.00211463775485754, 0.008339613676071167, -0.02836308255791664, -0.002976934192702174, 0.007556025870144367, -0.0013354226248338819, 0.0021846010349690914, 0.03447786718606949, -0.024445142596960068, 0.010851292870938778, -0.013467916287481785, 0.0023717526346445084, -0.01914193108677864, 0.007793900556862354, 0.04491637647151947, -0.027369603514671326, -0.01218059379607439, -0.018610211089253426, 0.007884852588176727, -0.0027617972809821367, 0.034449879080057144, 0.0042047882452607155, 0.014398426748812199, 0.0009611194836907089, 0.016777176409959793, -0.01686113141477108, 0.012691324576735497, 0.0038374816067516804, 0.029076706618070602, -0.017043035477399826, 0.015503845177590847, -0.006852895487099886, -0.00626520486548543, -0.011473964899778366, 0.0015549322124570608, -0.008360602892935276, -0.03022410348057747, -0.007262180093675852, -0.0788625180721283, 0.03811595216393471, -0.01096323411911726, 6.0179285355843604e-05, -0.0010853041894733906, -0.007339139934629202, 0.0017298401799052954, -0.03184724971652031, -0.0024941880255937576, -0.012229567393660545, -0.014538353309035301, -0.009955763816833496, -0.015028095804154873, -0.0003482855681795627, -0.014342456124722958, -0.00931909866631031, 0.014930146746337414, 0.020974967628717422, 0.004344714805483818, -0.004288744181394577, -0.011907736770808697, 0.027523523196578026, 0.008255657739937305, 0.015070073306560516, -0.007898845709860325, 0.015783697366714478, 0.004477644804865122, -0.00361359934322536, -0.01589563861489296, -0.02167459949851036, 0.007125752046704292, -0.027159715071320534, 0.00021994681446813047, 0.05261232703924179, -0.0020604163873940706, -0.0350375697016716, -0.01207564864307642, 0.026697957888245583, 0.015545823611319065, 0.023213790729641914, -0.024389171972870827, -0.006957840174436569, 0.007702948525547981, 0.00021623002248816192, -0.021842511370778084, -0.01670721173286438, 0.005590059794485569, -0.0008776009199209511, 0.008829356171190739, -0.010620414279401302, 0.024990854784846306, 0.019911527633666992, -0.007849871180951595, -0.0132160484790802, -0.009088220074772835, -0.04709922894835472, 0.015307948924601078, -0.0009471268276683986, -0.014902162365615368, -0.009032249450683594, 0.012880225665867329, 0.02623620070517063, -0.008850345388054848, -0.00763298524543643, 0.0034212004393339157, 0.0077169411815702915, -0.02258412167429924, -0.013453924097120762, 0.016021573916077614, -0.009081223979592323, -0.018610211089253426, -0.021282805129885674, 0.021730570122599602, -0.014013629406690598, -0.0036660716868937016, 0.006573042832314968, -0.019939512014389038, -0.016581278294324875, 0.0011491455370560288, 0.01240447536110878, 0.0033739753998816013, 0.001902999123558402, -0.02916066162288189, 0.006653500255197287, 0.020932989194989204, 0.019309842959046364, -0.011676858179271221, 0.0281531922519207, 0.004463652148842812, 0.0020674127154052258, 0.004211784806102514, -0.001962467795237899, 0.032378967851400375, -0.003426447743549943, 0.02450111322104931, 0.008619466796517372, -0.0011727581731975079, 0.0009007762419059873, 0.02809722162783146, 0.02471100352704525, 0.013076121918857098, -0.016581278294324875, 0.016119521111249924, -0.005495609249919653, 0.008234668523073196, 0.003907444886863232, -0.01080931443721056, -0.020471232011914253, 0.007003316655755043, 0.012537405826151371, 0.024473126977682114, -0.002230077050626278, -0.005677513778209686, 0.021450717002153397, -0.025298694148659706, -0.005247239954769611, -0.0018645193194970489, -0.021954452618956566, -0.024920891970396042, 0.03201515972614288, 0.016371389850974083, 0.02308785729110241, 0.02790132537484169, -0.0116488728672266, 0.028027258813381195, 0.014370441436767578, 0.014279489405453205, -0.03654877468943596, 0.010312575846910477, 0.017588749527931213, 0.019225887954235077, -0.005082826595753431, -0.011571913957595825, 0.0012505921768024564, -0.03705251216888428, -0.015685750171542168, -0.013852713629603386, 0.01868017390370369, -0.013558868318796158, 0.04393688961863518, -0.005030354019254446, -0.014580330811440945, 0.011040193028748035, -0.019729623571038246, 0.028992751613259315, 0.009389061480760574, 0.006856393534690142, -0.002312283730134368, 0.014216522686183453, 0.014790221117436886, -0.021044930443167686, 0.038004010915756226, -0.0236055850982666, -0.03327449783682823, -0.019309842959046364, -0.015685750171542168, 0.02927260287106037, -0.005474620498716831, 0.0017036040080711246, 0.03761221840977669, 0.008934300392866135, 0.010473491623997688, 0.0008723536739125848, -0.0012024925090372562, 0.0003137412422802299, 0.013083118945360184, 0.010256605222821236, -0.007667967118322849, -0.0248649213463068, 0.017840616405010223, 0.005813941825181246, -0.03260285034775734, -0.014468390494585037, 0.0002805087133310735, -0.0251727607101202, 0.004176802933216095, -0.01893204264342785, 0.005502605810761452, 0.006475094240158796, -0.009305105544626713, 0.03209911659359932, -0.00791983399540186, -0.00794781930744648, -0.001505083404481411, -0.014804213307797909, -0.0038129945751279593, 0.006737456191331148, -0.01833035796880722]\n"
          ]
        }
      ],
      "source": [
        "print(moon_embeddings)"
      ]
    },
    {
      "cell_type": "markdown",
      "id": "e27a64fd",
      "metadata": {
        "id": "e27a64fd"
      },
      "source": [
        "### Compare the vectors\n",
        "\n",
        "#### Vectors need to be the same length for the comparison"
      ]
    },
    {
      "cell_type": "code",
      "execution_count": null,
      "id": "4db54224",
      "metadata": {
        "id": "4db54224",
        "outputId": "7d5bdc51-7c5d-496a-a591-c91809ca79af"
      },
      "outputs": [
        {
          "data": {
            "text/plain": [
              "1536"
            ]
          },
          "execution_count": 15,
          "metadata": {},
          "output_type": "execute_result"
        }
      ],
      "source": [
        "len(sun_embeddings)"
      ]
    },
    {
      "cell_type": "code",
      "execution_count": null,
      "id": "bc5a49ae",
      "metadata": {
        "id": "bc5a49ae",
        "outputId": "3733e63a-3641-477a-fd96-723d66fe213d"
      },
      "outputs": [
        {
          "data": {
            "text/plain": [
              "1536"
            ]
          },
          "execution_count": 16,
          "metadata": {},
          "output_type": "execute_result"
        }
      ],
      "source": [
        "len(moon_embeddings)"
      ]
    },
    {
      "cell_type": "markdown",
      "id": "666a4a35",
      "metadata": {
        "id": "666a4a35"
      },
      "source": [
        "#### Cosine similarity is a measure of similarity between two non-zero vectors. The value can be between 0 and 1; the closer the value is to 1, the more similar the vectors are."
      ]
    },
    {
      "cell_type": "code",
      "execution_count": null,
      "id": "db5a6aae",
      "metadata": {
        "id": "db5a6aae",
        "outputId": "f14bc846-4604-4b67-d361-970f6db75f0f"
      },
      "outputs": [
        {
          "name": "stdout",
          "output_type": "stream",
          "text": [
            "Cosine Similarity: 0.879386766617019\n"
          ]
        }
      ],
      "source": [
        "cosine = compute_cosine_similarity(sun_embeddings, moon_embeddings)\n",
        "print(\"Cosine Similarity:\", cosine)"
      ]
    },
    {
      "cell_type": "markdown",
      "id": "583417e7",
      "metadata": {
        "id": "583417e7"
      },
      "source": [
        "### Generate embeddings for dissimilar words"
      ]
    },
    {
      "cell_type": "code",
      "execution_count": null,
      "id": "28dee72f",
      "metadata": {
        "id": "28dee72f",
        "outputId": "aee801d1-abc4-4341-af2c-48b80774c3f6"
      },
      "outputs": [
        {
          "name": "stdout",
          "output_type": "stream",
          "text": [
            "CreateEmbeddingResponse(data=[Embedding(embedding=[-0.004539640620350838, -0.012169663794338703, -0.0006128515233285725, -0.011888720095157623, 0.014622782357037067, 0.03237020969390869, -0.009079281240701675, -0.032479844987392426, 0.006924237124621868, -0.03670085594058037, 0.014746123924851418, 0.025298647582530975, 0.0021430531051009893, 0.0030766772106289864, -0.017377402633428574, 0.005296818446367979, 0.027450265362858772, 0.000763173564337194, -0.006331514101475477, -0.031164206564426422, -0.0003280532837379724, 0.011039036326110363, -0.0034741100389510393, -0.010059159249067307, -0.01614399068057537, -0.0019203537376597524, 0.03508371487259865, -0.01541764847934246, 0.007393618579953909, -0.01065530814230442, 0.00714008416980505, 0.0006680981023237109, -0.009298554621636868, -0.005982047412544489, -0.010319545865058899, -0.015088737942278385, 0.0060711270198225975, -0.010840320028364658, -0.0035066583659499884, 0.0057730525732040405, 0.010799205861985683, -0.003200018545612693, 0.004354629199951887, -0.0008483988931402564, -0.006677554454654455, 0.014047190546989441, 0.01411571353673935, 0.014239054173231125, 0.002098513301461935, -0.003600877244025469, 0.0068831234239041805, 0.017158128321170807, -0.012738403864204884, -0.02098170667886734, 0.008236450143158436, 0.006338366307318211, -0.013971814885735512, 0.008764076046645641, 0.005999178159981966, -0.022393276914954185, -0.01999497599899769, -0.003157191677019, 0.01677440106868744, -0.008483132347464561, 0.012293004430830479, 0.00883945170789957, -0.01718553900718689, -0.004515657667070627, -0.003679678775370121, -0.006348644848912954, 0.03475480526685715, 0.01878897286951542, -0.0025284942239522934, -0.021721752360463142, 0.004875402897596359, -0.014485737308859825, 0.015198375098407269, 0.009935817681252956, -0.003134921658784151, 0.0040017361752688885, 0.008825747296214104, -0.009785067290067673, -0.012073731049895287, 0.005170051474124193, 0.004128503613173962, -0.00975765846669674, -0.03130125254392624, 0.01149128656834364, -0.007722528651356697, 0.0011134968372061849, 0.009168361313641071, 0.018007813021540642, 0.0028625433333218098, 0.012395788915455341, 0.0026535484939813614, 0.02113245613873005, 0.00546812592074275, 0.024490077048540115, 0.013841621577739716, -0.043745007365942, 0.00032334233401343226, 0.022132890298962593, -0.04305977746844292, -0.01275210827589035, -0.02436673641204834, -0.0173362884670496, 0.03639935329556465, -0.003319933544844389, 0.022146595641970634, -0.008983349427580833, 0.022708483040332794, 0.031986478716135025, -0.002799159614369273, -0.03179461508989334, -0.002184166805818677, -0.015993239358067513, 0.013005642220377922, 0.015143556520342827, -0.004327219910919666, -0.010401773266494274, 0.02258514054119587, 0.03541262447834015, 0.021242093294858932, -0.004676686599850655, 0.005379046313464642, -0.0003852270601782948, -0.03195907175540924, -0.031438298523426056, 0.019158996641635895, -0.014663896523416042, 0.02420228160917759, 0.02057056874036789, 0.01645919494330883, -0.0219547301530838, -0.017322584986686707, 0.022242527455091476, -0.009038168005645275, 0.0146090779453516, 0.0005096389213576913, -0.008339234627783298, -0.0032736805733293295, 0.03300061821937561, -0.022544028237462044, 0.0005982904112897813, -0.0036214343272149563, 0.013423631899058819, 0.013958110474050045, 0.015678035095334053, 0.014883169904351234, -0.02453119121491909, 0.0179118812084198, -0.010394920594990253, 0.011977799236774445, -0.002286951057612896, -0.012519130483269691, -0.006101962644606829, -0.005947785917669535, 0.02968411147594452, -0.016335854306817055, -0.004824010655283928, 0.004714373964816332, 0.020597977563738823, 0.030150067061185837, -0.016185104846954346, 0.025915352627635002, 0.014074599370360374, 0.02590164914727211, -0.007921244949102402, -0.000142934441100806, 0.005235148128122091, -0.004998743999749422, 0.03404216840863228, -0.019076770171523094, 0.019063064828515053, -0.007900687865912914, 0.03502889722585678, 0.012875448912382126, 0.009209475480020046, -0.012971381656825542, -0.03678308054804802, -0.024983441457152367, -0.0056154499761760235, 0.019830521196126938, 0.009332816116511822, -0.003342203563079238, 0.0026860968209803104, 0.018185973167419434, -0.02533976174890995, -7.505396933993325e-05, 0.009600055404007435, 0.01556839793920517, 0.013690871186554432, 0.018665632233023643, -0.011772231198847294, -0.6714146137237549, -0.024818986654281616, 0.0005721660563722253, -0.006708390079438686, 0.005574336275458336, 0.014102009125053883, 0.013951258733868599, -0.002869395539164543, -0.015075033530592918, 0.026929492130875587, 0.017363697290420532, 0.0173362884670496, -0.01189557183533907, 0.0022475505247712135, -0.014430918730795383, -0.014266463927924633, -0.001366174896247685, 0.012621914967894554, -0.00851054210215807, -0.0001338337460765615, -0.007448437158018351, 0.0255864430218935, 0.0008813755703158677, -0.02331148460507393, 0.0008706688531674445, 0.01566432975232601, 0.01588360406458378, -0.017308879643678665, -0.019830521196126938, 0.022722186520695686, -0.010216761380434036, 0.020776137709617615, 0.0073867663741111755, 0.0009892990346997976, 0.032233163714408875, -0.01332084834575653, -0.013649757951498032, 0.027230992913246155, 0.029327793046832085, 0.022160299122333527, 0.0062938267365098, -0.003064685733988881, 0.03001302108168602, 0.015390238724648952, -0.0031383479945361614, 0.005334506276994944, 0.028450699523091316, -0.022557731717824936, 0.0013601791579276323, -0.0007978632929734886, 0.0182407908141613, 0.0032359929755330086, 0.012854892760515213, 0.0036865309812128544, -0.0002710936532821506, 0.007654005661606789, 0.03017747588455677, 0.007414175663143396, -0.008976497687399387, 0.005214591044932604, -0.007818460464477539, -0.0009498984436504543, -0.03195907175540924, -0.02091318368911743, -0.004505379591137171, 0.02750508487224579, -0.025216419249773026, -0.002896804828196764, 0.023105915635824203, -0.009538385085761547, 0.00659532705321908, 0.026367604732513428, -0.006379480008035898, -0.010093419812619686, 0.0025182159151881933, 0.032479844987392426, 0.03034193068742752, -0.02170804888010025, -0.0021036523394286633, 0.001040691277012229, 0.007880130782723427, -0.030533796176314354, -0.017692606896162033, -0.01383476983755827, 0.02291405200958252, -0.00758548267185688, -0.006119093392044306, -0.02009090781211853, -0.008078848011791706, -0.0026604009326547384, 0.0071332319639623165, 0.03042415902018547, -0.01985793001949787, -0.03220575302839279, -0.009367077611386776, 0.01512985210865736, 0.0012042896123602986, 0.006811174098402262, 0.019967567175626755, -0.006941367872059345, -0.0037413493264466524, -0.007359357550740242, -0.0016094311140477657, 0.00011242034815950319, 0.022941460832953453, 0.0015066468622535467, -0.02314702980220318, 0.001676240935921669, 0.04314200580120087, -0.03171239048242569, -0.0029910237062722445, -0.0038441335782408714, -0.0007473276345990598, -0.003319933544844389, 0.017939290031790733, -0.03283616527915001, 0.011868163011968136, 0.02644983120262623, 0.011683151125907898, -0.008051438257098198, 0.0007096400950103998, -0.0033559079747647047, 0.011861310340464115, -0.0243530310690403, -0.002309221075847745, 0.0071195270866155624, 0.009572646580636501, -0.030725659802556038, -0.0037413493264466524, 0.008298120461404324, -0.002286951057612896, 0.008414609357714653, 0.012087436392903328, -0.024503782391548157, 0.04229232296347618, -0.004961056634783745, 0.020036090165376663, -0.02050204575061798, 0.009723396971821785, -0.028834428638219833, -0.04001736268401146, -0.003755053738132119, 0.0026980882976204157, 0.004080537706613541, -0.0031126518733799458, -0.026340195909142494, -0.016568832099437714, -0.02081725187599659, -0.03204130008816719, 0.003532354487106204, -0.005786757450550795, -0.010161942802369595, 0.0012556817382574081, 0.02644983120262623, 0.016993673518300056, -0.012998790480196476, 0.0006055709673091769, -0.0222014132887125, -0.0173362884670496, -0.011957242153584957, 0.01162148080766201, 0.008167927153408527, 0.002631278708577156, 0.006122519262135029, 0.007112674880772829, -0.028697382658720016, -0.0073867663741111755, 0.026998015120625496, -0.011429616250097752, -0.034727394580841064, 0.0030663989018648863, -0.0045636240392923355, -0.01194353774189949, 0.03374066576361656, -0.005029579624533653, -0.0026758185122162104, -0.004690391011536121, -0.01662365160882473, 0.007242868654429913, 0.007167493458837271, 0.019871635362505913, 0.0002749480481725186, -0.01007971540093422, 0.003321646712720394, 0.008071995340287685, 0.0008698123274371028, 0.026271672919392586, 0.01903565600514412, -0.0009284850093536079, 0.008092552423477173, -0.007345652673393488, 0.024339327588677406, 0.006197894457727671, 0.012251891195774078, 0.006358923390507698, -0.006519951857626438, 0.006252713035792112, 0.00605399627238512, 0.0020848086569458246, 0.009065576829016209, 0.009415043517947197, 0.0052248695865273476, 0.007537516765296459, -0.002889952389523387, 0.009558942168951035, -0.04382723569869995, -0.0009558941819705069, -0.018926018849015236, 0.014197940938174725, 0.019090473651885986, 0.014376100152730942, -0.007270277477800846, -0.027326924726366997, -0.02080354653298855, 0.009250588715076447, 0.008633882738649845, 0.005331079941242933, -0.005783331114798784, -0.005848427768796682, -0.03612526133656502, 0.006845435593277216, -0.01621251367032528, 0.010381216183304787, -0.01303305197507143, 0.0036454172804951668, 0.031657569110393524, -0.002465110504999757, 0.016171399503946304, -0.0012239899951964617, -0.042429368942976, 0.017199242487549782, 0.0033507689367979765, 0.001635983819141984, 0.022297345101833344, -0.0031057994347065687, 0.01234782300889492, 0.00272207148373127, -0.015705443918704987, 0.03979808837175369, -0.008654439821839333, -0.004042849875986576, 0.033439166843891144, 0.03612526133656502, -0.0422649122774601, 0.015719149261713028, 0.01053196657449007, 0.04020922631025314, 0.0017473334446549416, -0.004227861762046814, 0.003552911337465048, -0.021735457703471184, -0.0026758185122162104, -0.015773966908454895, 0.015308011323213577, 0.006506247445940971, -0.011765378527343273, 0.018268199637532234, 0.016116581857204437, 0.0368104912340641, 0.02905370108783245, 0.008298120461404324, 0.007318243384361267, 0.006701537873595953, -0.006002604495733976, 0.02880701795220375, -0.0008788059349171817, 0.0030578335281461477, -0.018734155222773552, -0.00855165533721447, -0.004419725853949785, 0.005358489230275154, -0.031081978231668472, 0.011415911838412285, -0.005485256668180227, -0.006770060397684574, -0.015321715734899044, -0.011422764509916306, 0.015157260932028294, 0.018199676647782326, -0.013951258733868599, -0.021118750795722008, -0.029355201870203018, 0.002667253138497472, 0.004238140303641558, 0.0034809622447937727, -0.009812476113438606, -0.03749572113156319, -0.01150499191135168, -0.006239008158445358, 0.020597977563738823, -0.008585916832089424, 0.011032183654606342, 0.016253627836704254, -0.0032685413025319576, 0.005094676278531551, -0.014718715101480484, 0.004652703646570444, -0.005355062894523144, -0.008873713202774525, 0.006951646413654089, -0.009668578393757343, 0.003141774097457528, 0.007619744166731834, -0.007667710073292255, 0.016253627836704254, 0.0007164923590607941, -0.019487906247377396, 0.004046276211738586, -0.015143556520342827, -0.018665632233023643, -0.018994541838765144, -0.027285810559988022, -0.02784769795835018, 0.02065279521048069, -0.013499007560312748, 0.0036968092899769545, -0.006711815949529409, -0.03557708114385605, 0.03511112555861473, 0.011840753257274628, -0.014102009125053883, -0.008257007226347923, -0.024723054841160774, -0.012046322226524353, 0.06468559801578522, 0.008873713202774525, -0.0015306298155337572, 0.012203925289213657, -0.006968776695430279, -0.009572646580636501, -0.024161167442798615, -0.034508123993873596, 0.005296818446367979, 0.0024908066261559725, 0.0024788151495158672, -0.006639867089688778, 0.021406548097729683, -0.009092986583709717, 0.010298988781869411, 0.017473334446549416, -0.01822708547115326, 0.01343733724206686, -0.0053619155660271645, 0.00017066480359062552, -0.0038989519234746695, 0.0008145657484419644, 0.012813778594136238, 0.01652771793305874, 0.01613028533756733, 0.008887417614459991, 0.010237318463623524, 0.027135061100125313, 0.013505859300494194, -0.019899044185876846, -0.01134053710848093, 0.005197460297495127, -0.017651494592428207, 0.015924718230962753, 0.00034240027889609337, 0.01588360406458378, -0.008167927153408527, 0.0024479799903929234, 0.012450607493519783, -0.011827048845589161, 0.0024582582991570234, 0.014239054173231125, 0.004145634360611439, -0.008037733845412731, 0.007468993775546551, -0.01872045174241066, 0.01596583053469658, 0.04072999954223633, -0.003960622474551201, -0.025147896260023117, 0.01984422653913498, 0.018597109243273735, -0.017733721062541008, -0.02250291407108307, 0.005920376628637314, 0.018830087035894394, 0.018364131450653076, 0.0014406935079023242, 0.0025576164480298758, -0.028053266927599907, -0.04083963483572006, -0.01565062627196312, -0.013115279376506805, -0.01639067381620407, -0.01782965287566185, -0.038290586322546005, 0.010545670986175537, -0.0028985177632421255, -0.01863822340965271, -0.01717183366417885, -0.01581508107483387, -0.0011126402532681823, -0.01976199820637703, 0.0022201412357389927, 0.00855850800871849, 0.020132021978497505, 0.025600148364901543, -0.008428314700722694, -0.006502821110188961, -0.002499371999874711, 0.0021550445817410946, -0.010161942802369595, 0.009860442019999027, -0.025641262531280518, -0.033932529389858246, -0.01302619930356741, 0.00968228280544281, -0.011196638457477093, -0.00968228280544281, 0.02073502354323864, 0.0021499053109437227, 0.001228272682055831, 0.0036694002337753773, -0.0008993627852760255, 0.01621251367032528, 0.025476807728409767, 0.025641262531280518, 0.0014115712838247418, -0.01012768130749464, -0.028532927855849266, 0.02058427408337593, -0.030862705782055855, -0.0142801683396101, 0.004015440586954355, 0.011230899952352047, 0.005478404462337494, 0.012861744500696659, 0.011354241520166397, -0.008969645015895367, -0.03025970421731472, 0.000885658198967576, -0.004371759947389364, 0.013841621577739716, -0.0122998571023345, -0.0007289121276699007, 0.009086133912205696, 0.005156346596777439, 0.0035255022812634706, -0.008647587150335312, -0.014746123924851418, -0.015582103282213211, -0.040373679250478745, 0.016500309109687805, 0.02565496601164341, -0.009538385085761547, 0.0008698123274371028, 0.029327793046832085, -0.010593636892735958, -0.013403075747191906, 0.005156346596777439, -0.0016813802067190409, 0.014074599370360374, 0.0023880223743617535, -0.023654097691178322, -0.02783399447798729, -0.023530757054686546, -0.002254402730613947, 0.021639525890350342, -0.022475505247712135, -0.031822025775909424, -0.02233845926821232, 0.0019220667891204357, 0.011313127353787422, -0.007770494557917118, -0.014883169904351234, -0.055805034935474396, 0.0024531190283596516, 0.011039036326110363, -0.0012967955553904176, 0.034974079579114914, -0.0035940250381827354, 0.022406982257962227, -0.00020803118241019547, -0.004906238056719303, -0.02743656188249588, -0.011278865858912468, -0.011230899952352047, -0.022489208728075027, 0.03955140709877014, -0.002221854403614998, 0.043607961386442184, 0.001200863509438932, 0.009908408857882023, 0.015075033530592918, -0.01614399068057537, -0.0059272293001413345, 0.023859666660428047, -0.007599187549203634, -0.040949273854494095, 0.00518718222156167, 0.019830521196126938, 0.011395354755222797, -0.011367945931851864, -0.015911012887954712, 0.004224435426294804, 0.029026292264461517, 0.009901556186378002, -0.006167059298604727, -0.025065669789910316, -0.029875975102186203, -0.015362829901278019, -0.0005721660563722253, -0.013944406062364578, 0.0026432701852172613, 0.009079281240701675, -0.015431352891027927, 0.03653639927506447, 0.012272448278963566, 1.9713710571522824e-05, -0.018761564046144485, 0.022941460832953453, 0.0005528939655050635, 0.002406866056844592, 0.01194353774189949, 0.00935337319970131, -0.016582537442445755, -0.011642036959528923, 0.010922547429800034, 0.005625728517770767, 0.017610380426049232, -0.004998743999749422, 0.016034353524446487, -0.021242093294858932, 0.003092095023021102, -0.03179461508989334, 0.020145727321505547, -0.014225349761545658, -0.03363103047013283, 0.010840320028364658, -0.04234714061021805, -0.000629125686828047, -0.015102442353963852, -0.004998743999749422, -0.04029145464301109, -0.0004873689904343337, 0.0006102818879298866, 0.010833467356860638, 0.03258948028087616, -0.027340630069375038, 0.013642905279994011, 0.018843792378902435, 0.0077910516411066055, 0.018679337576031685, 0.01647290028631687, 0.031986478716135025, 0.02960188500583172, -0.0006107101798988879, -0.029821157455444336, -0.017048493027687073, -0.00018726018606685102, -0.018021518364548683, 0.027902517467737198, 0.013135836459696293, 0.0034432746469974518, 0.0047075217589735985, -0.0015940135344862938, -0.006711815949529409, 0.002369178691878915, -0.021749163046479225, 0.019967567175626755, 0.015445057302713394, 0.013841621577739716, -0.012327265925705433, -0.028505519032478333, -0.010031749494373798, 0.022160299122333527, -0.011710559949278831, -0.00629040040075779, -0.03195907175540924, -0.004810306243598461, -0.005200886633247137, -0.004731504712253809, -0.014883169904351234, 0.016911447048187256, 0.005495535209774971, 0.015061329118907452, -0.005447568837553263, -0.013019347563385963, -0.022064367309212685, 0.006831731181591749, 0.0054749781265854836, 0.028587745502591133, -0.030232295393943787, -0.021639525890350342, 0.006958498619496822, 0.004436856601387262, 0.004597885068506002, -0.008702405728399754, -0.020830955356359482, 0.030862705782055855, -0.03568671643733978, -0.00894908793270588, 0.0052077388390898705, -0.009325964376330376, 0.0359882153570652, 0.0007785912021063268, -0.013245472684502602, -0.011272014118731022, 0.01741851679980755, -0.020227953791618347, 0.043279051780700684, -0.001181163126602769, -0.00203684251755476, 0.0011066445149481297, -0.00685914047062397, -0.009853590279817581, 0.004035997670143843, 0.009264293126761913, 0.002108791610226035, 0.0008466858416795731, -0.03113679587841034, 0.014663896523416042, -0.027943629771471024, 0.02444896288216114, -0.008661292493343353, -0.0009387634345330298, -0.015540989115834236, 0.03894840553402901, -0.027861403301358223, 0.03286357223987579, -0.0020882347598671913, -0.003874968970194459, -0.021283207461237907, 0.024956032633781433, 0.0029807453975081444, -0.021488774567842484, 0.009435600601136684, -0.017308879643678665, -0.021516185253858566, -0.00883259903639555, -0.01234782300889492, 0.005594893358647823, 0.0068214526399970055, -0.002060825703665614, 0.019391974434256554, -0.0006244147662073374, -0.01637696847319603, -0.034014757722616196, -0.03138348087668419, 0.028368473052978516, 0.008770928718149662, 0.003727644681930542, 0.019707180559635162, -0.02299627847969532, 0.00506384065374732, 0.001165745547041297, 0.01613028533756733, 0.004022293258458376, -0.03300061821937561, -0.018377836793661118, -0.011484434828162193, 0.02266736887395382, -0.00342785706743598, 0.0003237705968786031, -0.0026381309144198895, -0.023133324459195137, -6.386546738212928e-05, 0.001798725570552051, 0.0011100706178694963, 0.03113679587841034, 0.015540989115834236, 0.03294580057263374, 0.0076334490440785885, 0.016678469255566597, -0.0356593057513237, -0.03365843743085861, -0.021269502118229866, -0.014129417948424816, -0.021091341972351074, -0.0032411322463303804, -0.026902083307504654, 0.021653229370713234, -0.0009593203430995345, -0.02106393314898014, -0.030698250979185104, -0.002999589079990983, -0.02324296161532402, -0.006060848943889141, -0.007660857867449522, 0.010860876180231571, 0.013841621577739716, -0.006920810788869858, 0.012478016316890717, 0.006235582288354635, 0.010744387283921242, 0.03179461508989334, -0.024161167442798615, -0.0034329963382333517, 0.011964094825088978, -0.03258948028087616, 0.0255864430218935, -0.007880130782723427, -0.004056554287672043, -0.013964963145554066, 0.018857495859265327, -0.003655695589259267, 0.015116147696971893, 0.0021584706846624613, 0.012971381656825542, -0.007976063527166843, -0.011724264360964298, -0.0018689616117626429, -0.002269820310175419, 0.019720884039998055, -0.009778214618563652, -0.02662799134850502, -0.0033439164981245995, -0.0038441335782408714, 0.0022749595809727907, -0.02081725187599659, -0.003940065391361713, -0.010298988781869411, -0.02880701795220375, 0.0010501131182536483, -0.0057250866666436195, -0.004885681439191103, 0.018734155222773552, -0.011265161447227001, -0.008483132347464561, -0.0015177817549556494, -0.004543066956102848, 0.02357187122106552, -0.006591901183128357, -0.01888490654528141, -0.015609512105584145, 0.008599621243774891, -0.0004959343350492418, 0.012087436392903328, 0.029875975102186203, -0.023667803034186363, -0.015499875880777836, 0.012765812687575817, 0.007057856768369675, -0.04412873461842537, 0.0014124278677627444, 0.003054407425224781, -0.03346657380461693, 0.008366643451154232, 0.015157260932028294, 0.01784335821866989, -0.02768324315547943, 0.006006030365824699, -0.011203491128981113, -0.03519335016608238, 0.009154656901955605, 0.0143212815746665, 0.0018621092895045877, -0.03168497979640961, -0.0013653184287250042, -0.0033267857506871223, -0.008489985018968582, -0.012519130483269691, 0.0006959355087019503, 0.014746123924851418, -0.0011563235893845558, 0.007366209756582975, 0.19800370931625366, 0.00826385896652937, -0.015376534312963486, 0.04067518189549446, 0.009627464227378368, -0.008654439821839333, 0.019501611590385437, 0.0006882266607135534, -0.01347159780561924, 0.0022526897955685854, -0.00855165533721447, -0.00490281218662858, 0.008524246513843536, 0.01298508606851101, 0.0006235581822693348, 0.00379274133592844, -0.02250291407108307, 0.0029156485106796026, -0.022078072652220726, -0.006026587449014187, 0.013773098587989807, -0.009257441386580467, -0.026833560317754745, -0.0037721844855695963, 0.008873713202774525, -0.0063349404372274876, -0.011032183654606342, 0.005670268554240465, 0.03226057067513466, 0.015075033530592918, -0.0440739169716835, -0.011628332547843456, -0.003967474680393934, -0.017487039789557457, -0.003145200200378895, -0.015033920295536518, 0.013279734179377556, -0.01234782300889492, 0.01636326313018799, 0.025257533416152, -0.006355497054755688, 0.002656974596902728, 0.024339327588677406, -0.004686965141445398, -0.0024000138510018587, 0.02533976174890995, -0.029190747067332268, -0.0012668167473748326, 0.0038886733818799257, 0.007612891960889101, -0.03590599074959755, 0.02300998382270336, 0.030369341373443604, 0.0366460345685482, 0.002276672748848796, 0.010223614051938057, 0.022009549662470818, 0.0073045389726758, -0.026586877182126045, 0.0024959458969533443, -0.01685662940144539, 0.024147462099790573, -0.033274710178375244, -0.005845001898705959, -0.02268107421696186, 0.0023708916269242764, -0.028450699523091316, -0.012943971902132034, 0.0066193100064992905, -0.013231768272817135, -0.0010612481273710728, -0.013060460798442364, -0.006410315632820129, -0.008209041319787502, -0.02194102667272091, -0.04648592323064804, 0.004022293258458376, 0.013636053539812565, 0.01517096534371376, 0.007612891960889101, -0.003042415948584676, 0.014773532748222351, -0.011224048212170601, -0.009764510206878185, -0.010778648778796196, -0.03291838988661766, 0.030396750196814537, -0.00238117016851902, -0.013423631899058819, -0.022297345101833344, -0.01774742640554905, -0.013067313469946384, 0.00544414296746254, -0.0077293808571994305, 0.021803980693221092, 0.016075467690825462, -0.004851419944316149, -0.0013524703681468964, -0.004138782154768705, -0.0028933787252753973, -0.0016188530717045069, -0.002413718495517969, 0.023092210292816162, -0.010216761380434036, 0.0143212815746665, -0.027902517467737198, 0.0046424251049757, -0.010257875546813011, -0.017295174300670624, 0.001695941318757832, -0.022708483040332794, -0.029574474319815636, 0.02639501355588436, -0.015828784555196762, 0.0010047167306765914, 0.031109387055039406, 0.006167059298604727, 0.0032908113207668066, 0.012279300019145012, -0.019405679777264595, 0.011566662229597569, -0.01251227781176567, 0.00843516644090414, 0.010182499885559082, -0.011251457035541534, -0.021831389516592026, -0.01645919494330883, -0.0038955258205533028, 0.009552089497447014, -0.023996712639927864, 0.012594505213201046, -0.0011837327620014548, 0.016842924058437347, 0.011820197105407715, -0.006286974065005779, 0.010710125789046288, 0.012484868988394737, -0.017158128321170807, 0.0003871542867273092, -0.00036788222496397793, -0.007462141569703817, -0.027395447716116905, -0.0009901556186378002, 0.019899044185876846, 0.008784633129835129, -0.012210777029395103, 0.03075306862592697, 0.006146502215415239, -0.019912749528884888, -0.014992806129157543, -0.0142801683396101, 0.0047691925428807735, -0.03121902421116829, 0.005738791078329086, 0.022283639758825302, -0.002586738672107458, -0.027792880311608315, -0.01652771793305874, 0.0021207830868661404, 0.02251661755144596, -0.054982759058475494, -0.014389804564416409, 0.019789407029747963, 0.005406455136835575, -0.005399602930992842, -0.008188484236598015, -0.17892694473266602, 0.00810625683516264, -0.003422717796638608, -0.019021950662136078, 0.012039470486342907, 0.01840524561703205, 0.010196204297244549, 0.01116922963410616, -0.01695256121456623, -0.012457459233701229, 0.0008252724655903876, 0.019076770171523094, -0.01888490654528141, 0.004813732113689184, 0.02122838795185089, 0.016979970037937164, -0.025956466794013977, 0.010525114834308624, 0.022886641323566437, 0.0222014132887125, 0.03653639927506447, -0.008743519894778728, -0.014581669121980667, -0.0143212815746665, 0.018035221844911575, 0.0022578288335353136, -0.03305543586611748, 0.011765378527343273, -0.008517393842339516, 0.007996619679033756, -0.01573285274207592, -0.018446359783411026, 0.041689321398735046, 0.003755053738132119, 0.010997922159731388, 0.005588040687143803, 0.001116066356189549, -0.009675431065261364, -0.007537516765296459, 0.028204018250107765, 0.011361093260347843, 0.030204884707927704, 0.002788881305605173, 0.01150499191135168, 0.007208607159554958, 0.024010417982935905, -0.0033010898623615503, 0.010525114834308624, 0.015911012887954712, -0.006766634527593851, 0.027052832767367363, -0.016979970037937164, 0.005793609656393528, 0.011751674115657806, -0.01750074326992035, 0.010120829567313194, 0.008346086367964745, 0.00699961232021451, -0.004577328450977802, -0.02211918495595455, 0.005406455136835575, -0.036755673587322235, -0.010703274048864841, -0.01751444861292839, 0.004070259165018797, -0.012765812687575817, 0.004669834394007921, -0.0018004386220127344, -0.010415477678179741, 0.0035220759455114603, 0.022064367309212685, -0.02421598508954048, 0.00016648918972350657, -0.014883169904351234, -0.016335854306817055, 0.03508371487259865, -0.044731736183166504, 0.02177657186985016, 0.016884038224816322, -0.01314954087138176, 0.0021499053109437227, 0.03494666889309883, -0.004029145464301109, -0.0025096505414694548, -0.010018045082688332, -0.0009070716332644224, -0.014814646914601326, 0.011176081374287605, -0.022955164313316345, 0.0009164935327135026, 0.023544462397694588, -0.00302699813619256, -0.018007813021540642, -0.013930701650679111, 0.009627464227378368, 0.01655512861907482, 0.012245038524270058, 0.007064708974212408, 0.0010064297821372747, 0.004892533645033836, 0.016651060432195663, -0.006266417447477579, -0.02169434353709221, 0.0017730295658111572, 0.03349398449063301, 0.01347845047712326, 0.0009815902449190617, 0.0020522603299468756, 0.016733286902308464, -0.024640828371047974, -0.029163338243961334, 0.009230031631886959, 0.0366460345685482, 0.022804414853453636, -0.006417167838662863, 0.0019135014154016972, 0.0027563327457755804, -0.012231334112584591, 0.012258742935955524, -0.02494232915341854, 0.038043901324272156, -0.025696080178022385, -0.01415682677179575, 0.004830862861126661, -0.00740047125145793, -0.012923414818942547, -0.09626094251871109, -0.009154656901955605, 0.007818460464477539, 0.015938421711325645, -0.01540394313633442, 0.024818986654281616, -0.02639501355588436, 0.01669217273592949, -0.0358237624168396, 0.03420662134885788, 0.0021927321795374155, -0.021653229370713234, -0.028916655108332634, 0.0011666020145639777, 0.009531532414257526, -0.019158996641635895, 0.0004222722491249442, -0.01053196657449007, -0.011265161447227001, 0.013971814885735512, 0.006468560080975294, 0.025353465229272842, -0.008421462029218674, -0.00572851300239563, -0.002597017213702202, -0.004344350658357143, -0.009257441386580467, 0.009908408857882023, 0.020844660699367523, -0.00449852691963315, 0.029738929122686386, -0.01636326313018799, 0.018693041056394577, -0.018131153658032417, -0.01636326313018799, -0.006578196305781603, -0.023284073919057846, 0.008332381956279278, 0.02814919874072075, -0.022722186520695686, 0.021872503682971, 0.00393663952127099, 0.002549051074311137, -0.03930472582578659, -0.00716064078733325, 0.007551221176981926, -0.03985290601849556, 0.01687033288180828, -0.004871976561844349, -0.021817684173583984, -0.023517051711678505, -0.012258742935955524, 0.0020402688533067703, -0.01913158781826496, 0.03121902421116829, -0.021365433931350708, 0.021803980693221092, 0.026011284440755844, -0.009271145798265934, 0.0143212815746665, -0.005954638123512268, 7.285909669008106e-05, -0.0029858844354748726, 0.04171672835946083, 0.0014175671385601163, 0.014362395741045475, -0.045471783727407455, -0.02332518808543682, -0.0035460591316223145, -0.002086521591991186, 0.0018466915935277939, 0.00883945170789957, -0.019899044185876846, 0.026655400171875954, -0.016678469255566597, -0.0004856559098698199, -0.03946917876601219, -0.0008513967623002827, 0.018610814586281776, -0.010997922159731388, -0.01888490654528141, -0.008476280607283115, 0.004416299518197775, -0.006807748228311539, 0.03300061821937561, 0.016116581857204437, -0.0017833079909905791, -0.0216258205473423, 0.014485737308859825, -0.01387588307261467, 0.019734589383006096, -0.003970901016145945, 0.003662548027932644, -0.026847263798117638, 0.003109225770458579, -0.006088257767260075, -0.011724264360964298, -0.02662799134850502, 0.0023280647583305836, -0.015033920295536518, -0.015924718230962753, -0.0035460591316223145, -0.06331513822078705, 0.01371828094124794, -0.0031554787419736385, 0.003820150624960661, 0.012279300019145012, -9.079281880985945e-05, -0.016281036660075188, -0.010730682872235775, -0.022544028237462044, 0.03009524941444397, -0.004090815782546997, 0.013135836459696293, 0.004039424005895853, 0.012902858667075634, 0.003919508773833513, 0.00035225044121034443, 0.017528152093291283, 0.01865192875266075, 0.008962792344391346, 0.008969645015895367, -0.010182499885559082, 0.011635185219347477, 0.01637696847319603, 0.023297779262065887, -0.01173796970397234, 0.0016933716833591461, 0.002770037390291691, 0.0035631898790597916, 0.0018072909442707896, -0.007516960147768259, -0.005070693325251341, -0.026751331984996796, -0.0058210184797644615, 0.03154793381690979, 0.007928097620606422, -0.0182407908141613, 0.0052248695865273476, -0.00045696194865740836, 0.0023126471787691116, 0.014636486768722534, -0.028669973835349083, -0.010956808924674988, 0.006787191145122051, 0.01654142327606678, -0.035220760852098465, -0.012361527420580387, -0.012560243718326092, 0.0034381356090307236, 0.02743656188249588, -0.007921244949102402, 0.02631278522312641, 0.011025330983102322, -0.0016222791746258736, -0.01726776547729969, -0.002185879973694682, -0.03278134763240814, 0.021365433931350708, -0.007606039755046368, -0.02251661755144596, -0.022557731717824936, 0.01977570354938507, 0.025942763313651085, 0.002715219045057893, 0.006646719295531511, 0.027148764580488205, 0.013156392611563206, -0.03058861382305622, 0.0033764648251235485, 0.02274959534406662, -0.039743270725011826, -0.005529796238988638, -0.02590164914727211, 0.016884038224816322, 0.011388503015041351, 0.01109385397285223, -0.0061807637102901936, -0.0073045389726758, -0.014088303782045841, 0.004375185817480087, 0.032315392047166824, 0.01896713301539421, 0.0038167245220392942, -0.015719149261713028, 0.010285284370183945, 0.01887120120227337, 0.016322150826454163, 0.010312693193554878, 0.011032183654606342, 0.00435805507004261, 0.005598319228738546, -0.00671524228528142, 0.0014466893626376987, 0.005310523323714733, -0.012293004430830479, 0.015239488333463669, 0.008483132347464561, -0.006900254171341658, -0.007194902282208204, 0.015116147696971893, 0.04629405960440636, 0.01759667508304119, -0.006444576662033796, -0.019337156787514687, -0.004241566173732281, -0.008044586516916752, 0.0023726047948002815, -0.007263425271958113, -0.01157351490110159, -0.007880130782723427, 0.03437107801437378, 0.007242868654429913, 0.006530230399221182, -0.007660857867449522, 0.003916082438081503, -0.010799205861985683, 0.024380439892411232, -0.005382472183555365, -0.017459629103541374, -0.01109385397285223, 0.01896713301539421, 0.02443525940179825, 0.009188918396830559, -0.0007194902282208204, -0.008428314700722694, 0.012772664427757263, 0.02428450807929039, -0.010346954688429832, -0.03099975176155567, -0.0025661818217486143, 0.016733286902308464, 0.03456294164061546, -0.00716064078733325, -0.023201847448945045, 0.0011323406361043453, -0.025271238759160042, 0.00020610397041309625, 0.005841575562953949, 0.02405153028666973, -0.028615154325962067, 0.06008085981011391, 0.006266417447477579, -0.017295174300670624, 0.01865192875266075, -0.012135402299463749, 0.016116581857204437, 0.01355382613837719, -0.004101094324141741, -0.006961924489587545, 0.0015563259366899729, 0.015033920295536518, 0.013567530550062656, 0.027820289134979248, -0.010018045082688332, -0.02089947834610939, -0.03286357223987579, -0.01552728470414877, 0.011669446714222431, -0.0283136535435915, 0.002076243283227086, 0.037468310445547104, 0.005392750725150108, 0.023654097691178322, -0.010730682872235775, -0.03234279900789261, 0.004895959980785847, 0.01166259404271841, 0.003635138738900423, -0.007756790146231651, -0.015088737942278385, 0.015540989115834236, 0.01314954087138176, -0.03511112555861473, -0.023818552494049072, 0.004645851440727711, -0.02646353654563427, 0.027285810559988022, -0.00560859777033329, -0.0013361962046474218, 0.013053609058260918, -0.012758960016071796, 0.027779174968600273, -0.011929833330214024, -0.016884038224816322, 0.0373038575053215, 0.0018723877146840096, -0.0012042896123602986, -0.019967567175626755, -0.005704529583454132], index=0, object='embedding')], model='text-embedding-ada-002', object='list', usage=Usage(prompt_tokens=1, total_tokens=1))\n"
          ]
        }
      ],
      "source": [
        "response = get_embeddings(\"cloud\",\"text-embedding-ada-002\")\n",
        "computer_embeddings = response.data[0].embedding\n",
        "print(response)"
      ]
    },
    {
      "cell_type": "code",
      "execution_count": null,
      "id": "622003f7",
      "metadata": {
        "id": "622003f7",
        "outputId": "439d448b-07ee-435f-95ff-dc806350c0a4"
      },
      "outputs": [
        {
          "name": "stdout",
          "output_type": "stream",
          "text": [
            "CreateEmbeddingResponse(data=[Embedding(embedding=[-0.011492114514112473, -0.016904346644878387, -0.011065955273807049, -0.009297390468418598, -0.006960613653063774, 0.01399935595691204, -0.017898719757795334, -0.019503923133015633, -0.005021585617214441, -0.0020402411464601755, 0.028666364029049873, 0.027643579989671707, 0.015625866129994392, -0.0028783557936549187, -0.009183748625218868, -0.00737967062741518, 0.04542865604162216, 0.00021851799101568758, 0.03852486610412598, -0.015341760590672493, -0.010916799306869507, 0.009105619043111801, -0.0027451806236058474, 0.0018839823314920068, -0.00875758845359087, 0.010206532664597034, 0.005415783263742924, -0.044434282928705215, 0.020597733557224274, -0.015725303441286087, 0.003732451470568776, -0.01424084696918726, -0.02664920501410961, -0.01656341925263405, -0.02058352902531624, -0.013203857466578484, -6.009521894156933e-05, -0.0046415929682552814, 0.010547460056841373, 0.009638318791985512, 0.023722907528281212, -0.0052275629714131355, 0.0066125825978815556, 0.009730653837323189, -0.033780284225940704, 0.008409557864069939, -0.021776776760816574, -0.026237251237034798, -0.008033116348087788, 0.007223412394523621, 0.011705194599926472, -0.001974541461095214, -0.01366553083062172, -0.0035566603764891624, -0.010994927957654, -0.012784800492227077, 0.010178121738135815, -0.003288534702733159, 0.013857303187251091, -0.02603837661445141, 0.012074533849954605, -0.0052169086411595345, -0.009297390468418598, 0.008018910884857178, -0.03551333397626877, 0.0027860209811478853, -0.018878888338804245, 0.0044107562862336636, -0.005202703643590212, -0.009588600136339664, 0.04332626610994339, 0.02960391528904438, 0.007741906680166721, -0.004680657293647528, 0.007933679036796093, -0.017557792365550995, -0.028922058641910553, 0.0016717902617529035, 0.0016327255871146917, 0.01883627288043499, 0.024731485173106194, -0.03423485532402992, -0.0036791814491152763, 0.004904391244053841, 0.02012895792722702, 0.004353934898972511, -0.01272087637335062, 0.0026457433123141527, -0.0005011819303035736, -0.011705194599926472, 0.01636454463005066, 0.018324879929423332, 0.020711377263069153, 0.006246795412153006, -0.01843852363526821, 0.02142164297401905, -0.02058352902531624, 0.016279311850667, 0.015171295963227749, -0.018537960946559906, 0.02957550436258316, -0.011485012248158455, -0.00967383198440075, -0.011364267207682133, -0.013992253690958023, 0.004929250571876764, 0.007578545715659857, -0.016179874539375305, 0.019589155912399292, -0.007692188024520874, -0.020143162459135056, 0.014929805882275105, -0.007990499958395958, -0.02314048819243908, -0.010469330474734306, -0.0078058307990431786, 0.0019017390441149473, 0.0016460430342704058, 0.013907021842896938, -0.025342315435409546, 0.019503923133015633, 0.007649572100490332, 0.022700123488903046, -0.015299144200980663, 0.023396184667944908, 0.02552698366343975, -0.01059717871248722, -0.012834519147872925, 0.0100502735003829, -0.011769118718802929, 0.030740341171622276, -0.0022746289614588022, 0.03974652290344238, -0.01875104010105133, -0.0021290243603289127, 0.024390557780861855, -0.01765722967684269, 0.004488885402679443, 0.007269579451531172, -0.02791348099708557, -0.0014649250078946352, 0.036649759858846664, -0.010959414765238762, -0.01987326145172119, -0.019915876910090446, 0.01841011270880699, 0.01197509653866291, -0.002601351821795106, -0.007092013023793697, 0.0015616988530382514, 0.01500083226710558, -0.019489718601107597, 0.027260035276412964, -0.01197509653866291, 0.018310675397515297, 0.013125727884471416, -0.014730931259691715, 0.018140211701393127, -0.007933679036796093, 0.0018014138331636786, 0.012500694021582603, 0.006758187431842089, -0.0055258749052882195, -0.03281432017683983, 0.0016522578662261367, 0.01419823057949543, 0.020654555410146713, 0.028154971078038216, -0.008253298699855804, 0.009013283997774124, 0.0029706903733313084, 0.02069717086851597, -0.04591163992881775, 0.005160087253898382, -0.005763814318925142, 0.010973620228469372, 0.009936630725860596, 0.015114475041627884, -0.01500083226710558, -0.013658428564667702, -0.030314182862639427, 0.003682732814922929, 0.02974596805870533, 0.0319904126226902, -0.01483036857098341, 0.021435849368572235, 0.024674665182828903, -0.008331428281962872, 0.0102633535861969, -0.020569322630763054, -0.0034465689677745104, 0.03420644253492355, 0.020313628017902374, -0.006665852852165699, -0.6463994979858398, -0.030200539156794548, -0.005838392302393913, -0.033751871436834335, 0.0038780560716986656, -0.016236696392297745, 0.0072802333161234856, 0.008551610633730888, -0.02664920501410961, -0.03559856489300728, -0.012422564439475536, 0.01656341925263405, -0.006040818057954311, 0.004382345359772444, -0.012216586619615555, -0.03162107244133949, 0.0007235842058435082, -0.02733106166124344, -0.00719855260103941, 0.014205333776772022, 0.0026723784394562244, 0.004158611409366131, -0.0146030830219388, -0.004062725231051445, 0.0003486965433694422, 0.015597456134855747, 0.002070427406579256, -0.01157024409621954, -0.0033471316564828157, 0.009027489461004734, -0.015114475041627884, 0.02314048819243908, 0.02190462499856949, -0.001532400376163423, 0.020086342468857765, -0.006964164786040783, -0.007557237520813942, 0.04267282411456108, 0.01477354671806097, 0.02431953139603138, -0.02302684634923935, -0.009737756103277206, 0.016492392867803574, 0.0034021774772554636, -0.022202936932444572, 0.018680013716220856, 0.011854350566864014, 0.007727701682597399, 0.006562863942235708, -0.000953533046413213, -0.007017435040324926, -0.022643301635980606, 0.0019194957567378879, 0.025569600984454155, -0.006388848647475243, 0.005277281627058983, 0.01886468380689621, -0.006687161047011614, -0.015895769000053406, -0.006864727474749088, 0.0003691167221404612, 0.015426992438733578, -0.019503923133015633, -0.009588600136339664, 0.0212795902043581, 0.009354212321341038, -0.004222535528242588, -0.0032849833369255066, 0.01270667091012001, -0.016094643622636795, 0.023992808535695076, 0.018395906314253807, 0.016961168497800827, -0.02049829624593258, 0.009482060559093952, 0.03707592189311981, 0.009233467280864716, -0.022131910547614098, -0.03164948523044586, 0.024191683158278465, 0.012799005955457687, -0.01909196935594082, -0.025015592575073242, 0.00473747868090868, 0.009126926772296429, -0.01650659739971161, -0.019546538591384888, 0.0027966750785708427, 0.02125117927789688, 0.017046401277184486, 0.020967071875929832, 0.024362146854400635, -0.004691311623901129, -0.002540979068726301, 0.009830091148614883, 0.017103221267461777, 0.005522323306649923, 0.008089937269687653, 0.012685363180935383, -0.035882674157619476, 0.002358085475862026, -0.00877179391682148, 0.011754913255572319, -0.0075288270600140095, 0.023737112060189247, 0.011421088129281998, -0.018239649012684822, 0.03218928724527359, 0.044434282928705215, -0.04261600226163864, -0.015455403365194798, 0.011804631911218166, -0.0038958126679062843, -0.006104742176830769, 0.002477054949849844, -0.03164948523044586, 0.02583950199186802, 0.005596901290118694, 0.0112293167039752, -0.02980278991162777, 0.005128125660121441, -0.0014968870673328638, 0.01352347806096077, -0.015554840676486492, 7.036079477984458e-05, 0.0174583550542593, -0.008736279793083668, -0.005550734233111143, -0.0015022139996290207, -0.021293794736266136, 0.007642469368875027, -0.017017990350723267, 0.0012624990195035934, -0.019049352034926414, 0.031422197818756104, 0.008871231228113174, 0.016620241105556488, -0.013985151425004005, 0.030228950083255768, -0.008274606429040432, -0.006932202726602554, 0.0023953744675964117, -0.016819115728139877, 0.00701388344168663, -0.013708147220313549, -0.03599631413817406, 0.010014760307967663, -0.010014760307967663, -0.005962688941508532, 0.0300584863871336, -0.01656341925263405, 0.007727701682597399, -0.0011026890715584159, 0.01198930200189352, 0.0068540736101567745, -0.049548204988241196, -0.007848447188735008, -0.010831566527485847, -0.004442717880010605, 0.00895646307617426, -0.0026670515071600676, 0.00799760315567255, -0.013232268393039703, -0.015128680504858494, 0.005817084107547998, 0.0037679646629840136, -0.01426925789564848, 0.02440476231276989, 0.007195001468062401, -0.052957482635974884, -0.00021696428302675486, -0.006601928733289242, -0.00924767181277275, 0.03298478573560715, 0.015057654120028019, -0.003357785753905773, -0.015185501426458359, -0.015725303441286087, 0.0036649759858846664, 0.010717924684286118, -0.014120101928710938, -0.01841011270880699, -0.024418968707323074, -0.0014755789889022708, 0.02184780314564705, -0.017557792365550995, 0.04068407416343689, 0.02041306532919407, -0.014887189492583275, 0.028552720323204994, -0.026833875104784966, -9.915988630382344e-05, 0.026123609393835068, -0.009666729718446732, -0.015725303441286087, 0.0010023638606071472, 0.02931980788707733, 0.01737312227487564, -0.0008625300833955407, 0.03443372994661331, 0.007195001468062401, 0.010334379971027374, 0.010355688631534576, -0.007976294495165348, 0.00816806685179472, -0.04801402613520622, 0.008906744420528412, -0.010753437876701355, 0.02600996568799019, 0.015256528742611408, 0.009595703333616257, -0.017032194882631302, -0.010966517962515354, -0.0013903470244258642, 0.028297023847699165, 0.00472327321767807, 0.012422564439475536, 0.0011222213506698608, -0.0016513700829818845, -0.028751594945788383, 0.012053225189447403, -0.0007333503453992307, -0.006953510921448469, 0.00832432508468628, -0.00701388344168663, 0.02518605627119541, 0.02799871191382408, 0.004254497587680817, 0.0025853707920759916, -0.02024259977042675, 0.01463149394840002, 0.0017463682452216744, -0.027728810906410217, 0.00048031783080659807, 0.007031640037894249, 0.02673443779349327, 0.0190635584294796, -0.027203213423490524, 0.03701910004019737, -0.02110912650823593, 0.023836549371480942, 0.024362146854400635, 0.02853851579129696, -0.014745136722922325, -0.0075146215967834, -0.0037289001047611237, 0.05139489844441414, -0.011314548552036285, -0.02064034901559353, 0.026691822335124016, -0.013892816379666328, 0.005440642591565847, 0.016918553039431572, -0.008260401897132397, 0.007237617392092943, -0.008430865593254566, 0.0005393587634898722, 0.011065955273807049, 0.0014791303547099233, 0.02954709343612194, 0.020967071875929832, -0.0014418413629755378, -0.0033098426647484303, 0.022089293226599693, 0.010703719221055508, -0.006729776971042156, -0.01085287518799305, -0.006150909699499607, -0.01480195764452219, -0.004943456035107374, -0.011350061744451523, -0.018310675397515297, 0.022217141464352608, -0.007812933064997196, 0.019560744985938072, 0.009737756103277206, -0.00187865539919585, 0.0034767554607242346, -0.0007923912489786744, 0.014453927055001259, -0.023666085675358772, -0.04275805503129959, 0.023793933913111687, 0.014688314869999886, 0.013985151425004005, -0.036848634481430054, -0.0399169884622097, 0.0047658896073699, -0.01029176451265812, 0.025512779131531715, 0.0010476433672010899, 0.007248271722346544, 0.020540911704301834, -0.0006321373512037098, 0.0048582241870462894, -0.006424362305551767, 0.02960391528904438, -0.024745691567659378, -0.005387372802942991, -0.010114197619259357, -0.004833364859223366, -0.010227840393781662, 0.007812933064997196, -0.013708147220313549, 0.02181939221918583, 0.002913868986070156, 0.0007386773359030485, -0.03562697768211365, -0.01294816192239523, -0.023495621979236603, -0.004403653554618359, -0.009986349381506443, -0.011911172419786453, 0.020427269861102104, 0.008437967859208584, -0.01993008330464363, -0.04054202139377594, -0.0009588600369170308, 0.01644977554678917, -0.011904069222509861, -0.006743981968611479, -0.027572551742196083, -0.03508717566728592, -0.008310120552778244, 0.10938107222318649, 0.01757199689745903, -0.00255873566493392, 0.002272853394970298, -0.006324924994260073, 0.017074810341000557, -0.014141409657895565, -0.007649572100490332, -0.0035850710701197386, -0.017841899767518044, 0.020611939951777458, 0.003348907455801964, -0.0006321373512037098, -0.004027212038636208, -0.001490672235377133, 0.011250624433159828, -0.009283185936510563, 0.007571442984044552, 0.0010840445756912231, -0.04250235855579376, -0.007614058908075094, -0.008963565342128277, 0.004329075571149588, -0.0003899807925336063, -0.008082835003733635, -0.012202381156384945, 0.018310675397515297, 0.03511558473110199, 0.024972977116703987, -0.005937829613685608, -0.008778896182775497, 0.02308366633951664, -0.01748676598072052, 0.007386773359030485, -0.008054424077272415, -0.0010840445756912231, -0.0071452828124165535, 0.019219815731048584, 0.007727701682597399, -0.00950336828827858, 0.01644977554678917, 0.018736835569143295, 0.015668483451008797, -0.011307445354759693, 0.013686838559806347, -0.015753714367747307, -0.006665852852165699, 0.019503923133015633, 0.020370448008179665, -0.02196144498884678, 0.04594004899263382, -0.008949359878897667, -0.019077762961387634, -0.01897832565009594, 0.00324059184640646, -0.012507796287536621, 0.009006181731820107, -0.002491260413080454, 0.007131077349185944, 0.02738788351416588, -0.01593838445842266, -0.011243521235883236, 0.015199706889688969, 0.010121299885213375, -0.002361636608839035, -0.021947240456938744, -0.01855216547846794, -0.015455403365194798, -0.019660182297229767, -0.00265639740973711, -0.0021538836881518364, -0.0036791814491152763, 0.0032299377489835024, 0.00892805214971304, 0.005085509270429611, -0.0027345267590135336, 0.0119608910754323, -0.011051749810576439, 0.005859700031578541, -0.014510747976601124, -0.015185501426458359, -0.016577623784542084, -0.002335001714527607, -0.0384112223982811, -0.005536528769880533, 0.010689513757824898, -0.01894991472363472, 0.009240569546818733, 0.0009792802156880498, 0.02721741981804371, 0.015256528742611408, 0.008374043740332127, 0.013139933347702026, -0.002450420055538416, 0.0027132187969982624, -0.0034607744310051203, 0.006140255369246006, 0.004936353303492069, 0.004971866961568594, 0.0022781803272664547, 0.015071858651936054, -0.02983120083808899, -0.0050748554058372974, -0.0031500328332185745, 0.0034128313418477774, -0.0007750785443931818, 0.0020526708103716373, 0.017756666988134384, 0.007031640037894249, 0.0023598610423505306, 0.015980999916791916, -0.014219539240002632, 0.007269579451531172, -0.011449499055743217, 0.023041050881147385, 0.014453927055001259, 0.005504566710442305, 0.017785077914595604, 0.0017392655136063695, -0.044519513845443726, -0.030200539156794548, -0.022472837939858437, 0.024305325001478195, 0.01000765711069107, -0.01748676598072052, 0.0016149688744917512, 0.008189374580979347, 0.0051352279260754585, 0.008501891978085041, 0.014539158903062344, -0.009482060559093952, 0.013168344274163246, 0.01142819132655859, 0.002152108121663332, -0.011705194599926472, -0.02024259977042675, -0.008785998448729515, -0.0018520203884691, -0.005625312216579914, -0.027146393433213234, -0.04096818342804909, 0.008381146937608719, 0.005429988726973534, -0.013388526625931263, -0.0011382023803889751, -0.06096929311752319, -0.004552809521555901, -0.002853496465831995, -0.002539203502237797, 0.005849046166986227, -0.01777087152004242, -0.0016806685598567128, -0.00739387609064579, -0.004868878051638603, -0.017032194882631302, -0.02021419070661068, -0.04915045574307442, -0.005160087253898382, 0.024078041315078735, 0.01894991472363472, 0.02856692671775818, -0.005618209484964609, 0.014155615121126175, 0.0033560101874172688, 0.007088461425155401, 0.011279035359621048, 0.007322849705815315, -0.007035191636532545, -0.0061935256235301495, 0.033865515142679214, 0.03003007546067238, 0.0184953436255455, -0.006822111550718546, -0.018736835569143295, -0.012742184102535248, -0.01993008330464363, 0.018708424642682076, -0.010256251320242882, -0.002287058625370264, -0.01639295555651188, -0.004815608263015747, -0.0062610008753836155, -0.0068611763417720795, 0.0027806940488517284, 0.010426715016365051, -0.018310675397515297, 0.03557015582919121, 0.003938428591936827, 0.00947495736181736, -0.011833042837679386, 0.020313628017902374, -0.004961212631314993, 0.012969469651579857, 0.008565816096961498, 0.01463149394840002, 0.00799760315567255, 0.008551610633730888, 0.0020100546535104513, -0.0026120056863874197, 0.01843852363526821, 0.0036472193896770477, -0.0072198607958853245, -0.0015954364789649844, 0.0037537594325840473, 0.0034341393038630486, 0.0012580598704516888, 0.011328754015266895, -0.02977437898516655, 0.013402732089161873, -0.017074810341000557, -0.008864128030836582, -0.00944654643535614, -0.0034465689677745104, -0.044008124619722366, -0.008857025764882565, -0.004684208892285824, -3.112618969680625e-06, 0.0021272487938404083, -0.019660182297229767, -0.00855871383100748, -0.001654033549129963, -0.012266305275261402, 0.03201882168650627, 0.0074080815538764, 0.02305525727570057, 0.03210405260324478, -0.011421088129281998, -0.005387372802942991, 0.01616567000746727, 0.009027489461004734, 0.008267504163086414, 0.0033382533583790064, 0.0016717902617529035, 0.0032565726432949305, -0.019475512206554413, 0.003586846636608243, -0.011669681407511234, -0.023580854758620262, -0.013182549737393856, 0.02535651996731758, 0.016463981941342354, 0.012656952254474163, -0.02389337122440338, -0.019859056919813156, -0.03741684928536415, 0.016946963965892792, 0.000755990098696202, 0.005710544064640999, -0.049633435904979706, -0.0058952136896550655, -0.016123054549098015, -0.018395906314253807, -0.003396850312128663, 0.03559856489300728, 0.006783046759665012, -0.02848169393837452, 0.0015954364789649844, -0.013992253690958023, -0.00892805214971304, -0.005124574061483145, -0.027799837291240692, 0.028723184019327164, -0.018168622627854347, -0.008970668539404869, 0.008523200638592243, -0.001144417212344706, -0.019418690353631973, -0.01214556023478508, 0.0005797551712021232, 0.02856692671775818, -0.013566093519330025, 0.011506319977343082, 0.026635000482201576, -0.021066509187221527, 0.024816717952489853, 0.01421243604272604, -0.009212158620357513, -0.03247339278459549, -0.013431143015623093, -0.01978803053498268, 0.020839223638176918, -0.00505354767665267, -0.003157135332003236, -0.010568767786026001, -0.026478741317987442, -0.012422564439475536, 0.0009419911657460034, -0.009808782488107681, 0.005806430242955685, -0.016776498407125473, -0.02285638265311718, -0.033865515142679214, -0.0005389148718677461, 0.018069185316562653, -0.008260401897132397, -0.026975927874445915, 0.001578567666001618, 0.017699845135211945, -0.018736835569143295, 0.007592750713229179, -0.020995482802391052, 0.01352347806096077, -0.0349167101085186, -0.018395906314253807, 0.007450697477906942, -0.006584172137081623, 0.009595703333616257, -0.0049185967072844505, -0.020370448008179665, -0.013914124108850956, -0.0075288270600140095, 0.008437967859208584, -0.0009704018593765795, 0.006559312809258699, -0.0034874093253165483, -0.008636842481791973, -0.00020320285693742335, -0.03718956187367439, -0.008310120552778244, 0.02653556317090988, -0.008679458871483803, 0.006672955583781004, 0.0026084543205797672, 0.0009997003944590688, 0.022842176258563995, -0.0026049029547721148, 0.002191172679886222, 0.016733882948756218, -0.018339086323976517, -0.006225487682968378, -0.010788951069116592, 0.02305525727570057, -0.01650659739971161, -0.01593838445842266, -0.010398304089903831, -0.006491837557405233, -0.012571720406413078, 0.024703076109290123, 0.011698092333972454, -0.012401256710290909, 0.004261600319296122, 0.006665852852165699, 0.00833853054791689, -0.004883083514869213, -0.011683886870741844, -0.021009689196944237, 0.012841621413826942, -0.016265107318758965, -0.03508717566728592, -0.018566371873021126, -0.003998801577836275, 0.021208563819527626, 0.022756945341825485, -0.02024259977042675, -0.01078184787184, -0.026237251237034798, -0.020001109689474106, -0.02822599746286869, -0.013239370658993721, -7.818482117727399e-05, 0.006644544657319784, -0.0005944044096395373, 0.006182871293276548, 0.020398858934640884, -0.007351260166615248, 0.011122776195406914, -0.005415783263742924, -0.009041694924235344, 0.00501093128696084, -0.01633613370358944, 0.005714095663279295, -0.01475934125483036, 0.004304216243326664, -0.016520803794264793, 0.036081548780202866, 0.02931980788707733, 0.0011293240822851658, 0.033467765897512436, -0.00986560434103012, -0.008004705421626568, -0.02791348099708557, -0.002191172679886222, 0.008615534752607346, -0.0014826817205175757, 0.001388571341522038, -0.02122276835143566, 0.0002000954409595579, 0.012855826877057552, -0.016520803794264793, -0.03181994706392288, -0.008551610633730888, -0.004453372210264206, 0.0009561965125612915, 0.034007567912340164, -0.017415739595890045, -0.014546262100338936, -0.016037821769714355, -0.033496174961328506, 0.003382645081728697, -0.006751084700226784, -0.013225165195763111, 0.015384376049041748, -0.01350927259773016, 0.0005682133487425745, -0.0012287613935768604, 0.013402732089161873, 0.013473759405314922, -0.015370170585811138, -0.0027487319894135, -0.028439078480005264, 0.0227427389472723, -0.013004982843995094, 0.0039029153995215893, 0.00855871383100748, 0.0296323262155056, -0.012465179897844791, 0.0031074166763573885, 0.017444150522351265, 0.007443594746291637, -0.0037360028363764286, -0.002633313648402691, -0.012685363180935383, 0.004847570322453976, -0.0034536716993898153, -0.00046344901784323156, -0.02426270954310894, -0.013715249486267567, -0.005476156249642372, -0.024276915937662125, -0.01593838445842266, -2.3624690584256314e-05, -0.030228950083255768, -0.014702520333230495, -0.01920561119914055, 0.007049396634101868, 0.018651602789759636, 0.1853511929512024, -0.014304771088063717, 0.001233200542628765, 0.024248505011200905, -0.01914878934621811, 0.024830922484397888, 0.02738788351416588, 0.009993452578783035, -0.003103865310549736, 0.009560189209878445, 0.01218817662447691, 0.009602805599570274, -0.020569322630763054, 0.006815008819103241, -0.006264552008360624, -0.01650659739971161, -0.04630938917398453, -0.0016939860070124269, -0.017813488841056824, -0.018253853544592857, 0.02673443779349327, 0.01083866972476244, -0.010071581229567528, -0.004229638259857893, 0.00801180861890316, 0.013772071339190006, 0.015327555127441883, 0.009197953157126904, 0.03321206942200661, 0.010128403082489967, 0.007798728067427874, -0.022842176258563995, 0.003295637434348464, 0.01345245074480772, -0.021151741966605186, 0.008061527274549007, -0.016946963965892792, 0.014112998731434345, 0.008991976268589497, 0.010305969975888729, -0.005046444945037365, 0.009340006858110428, -0.017046401277184486, -0.01463149394840002, 0.024134861305356026, 0.009787474758923054, -0.03187676891684532, 0.001041428535245359, 0.009418136440217495, 0.022387605160474777, -0.03508717566728592, -0.0015545962378382683, 0.02994484268128872, 0.03207564353942871, 0.00529858935624361, 0.00637464364990592, 0.03801347315311432, -0.0009047021740116179, -0.0017215089173987508, 0.01498662680387497, -0.010959414765238762, 0.03517240658402443, -0.0074080815538764, 0.00027678205515258014, -0.01711742766201496, 0.015171295963227749, -0.022842176258563995, 0.0060266125947237015, 0.006051471922546625, -0.018211238086223602, -0.00855871383100748, -0.01717424765229225, -0.02600996568799019, 0.006893137935549021, -0.016819115728139877, -0.039348773658275604, 0.0027203212957829237, 0.019603360444307327, 0.030882395803928375, 0.010874182917177677, 0.005987548269331455, 0.0016025392105802894, 0.009915322996675968, 0.006229038815945387, -0.01590997353196144, -0.03781459853053093, 0.019219815731048584, 0.004044968634843826, -0.025541190057992935, 0.01484457403421402, -0.044604748487472534, -0.03264385834336281, -0.009070105850696564, -0.002841066801920533, 0.023879166692495346, 0.0033275994937866926, 0.015327555127441883, 0.03522922843694687, -0.017302095890045166, -0.014184026047587395, 0.004027212038636208, -0.0014951113844290376, 0.019816439598798752, 0.005575593560934067, -0.0008474369533360004, -0.001804077415727079, -0.01731630228459835, 0.024788307026028633, 0.0009224588284268975, -0.004314870107918978, 0.014326078817248344, -0.03204723447561264, -0.005128125660121441, 0.000871408439707011, 0.016293518245220184, 0.02122276835143566, -0.009340006858110428, 0.012578822672367096, 0.014318976551294327, -0.00748621067032218, 0.009233467280864716, -0.028126560151576996, 0.008984874002635479, -0.01633613370358944, 0.01255041267722845, -0.00400590430945158, -0.022373400628566742, 0.006981921382248402, 0.010433817282319069, -0.023467211052775383, -0.003208629786968231, -0.018537960946559906, 0.025512779131531715, 0.002397150034084916, -0.02015736885368824, 0.02676284871995449, 0.005543631501495838, -0.016407160088419914, 0.016123054549098015, 0.004609630908817053, -0.025285493582487106, -0.011762016452848911, 0.010114197619259357, 0.007685085292905569, -0.006019510328769684, -0.03224610909819603, 0.014532056637108326, 0.011243521235883236, 0.006406605709344149, -0.030371002852916718, -0.01461728848516941, 0.004638041369616985, -0.004165714140981436, 0.0022852830588817596, 0.023722907528281212, -0.008082835003733635, -0.025938939303159714, -0.019461307674646378, 0.004996726289391518, 0.014489440247416496, -0.021464258432388306, 0.009822987951338291, 0.04116705805063248, -0.002683032304048538, -0.024617843329906464, -0.0035619873087853193, -0.18512390553951263, 0.02406383492052555, 0.02684808149933815, -0.044349052011966705, 0.00605857465416193, 0.00529858935624361, 0.020199984312057495, -0.005245319567620754, -0.008331428281962872, -0.003023960394784808, 0.04505931958556175, -0.011513423174619675, -0.0662536770105362, -0.01062558963894844, -0.006953510921448469, -0.009013283997774124, -0.011506319977343082, 0.005266627296805382, 0.017330506816506386, 0.0331268385052681, 0.060401078313589096, -0.005273730028420687, 0.01782769337296486, -0.0014560467097908258, 0.012003506533801556, -0.0025853707920759916, 0.014020664617419243, 0.036706581711769104, 0.013274883851408958, -0.030598288401961327, -0.014659903943538666, -0.013061804696917534, 0.04318421334028244, 0.007166591007262468, 0.023012639954686165, 0.023793933913111687, -0.02595314383506775, 0.0054441941902041435, 0.00929028820246458, 0.018282264471054077, 0.015171295963227749, 0.02055511809885502, 0.01366553083062172, 0.0018680014181882143, 0.004080482292920351, 0.03946241736412048, 0.014184026047587395, -0.004570566117763519, 0.016265107318758965, 0.0001493779564043507, 0.001280255732126534, -0.008608432486653328, 0.018353290855884552, 0.025044003501534462, 0.02747311443090439, 0.025740064680576324, -0.003934877458959818, 0.01211714930832386, 0.007578545715659857, -0.0009695140179246664, -0.013750762678682804, -0.014063280075788498, 0.005987548269331455, -0.020924456417560577, -0.006491837557405233, -0.0178845152258873, -0.01120090577751398, 0.004677106160670519, -0.04128069803118706, -0.0012624990195035934, 0.008807307109236717, -0.008118348196148872, -0.0016895468579605222, -0.033837106078863144, -0.004282908048480749, 0.0033258236944675446, -0.036280423402786255, 0.015540635213255882, -0.009844296611845493, -0.0020384653471410275, -0.0035761927720159292, 0.018452728167176247, -0.0038851588033139706, -0.00731574697420001, -0.00514588225632906, 0.02566903829574585, -0.02058352902531624, 0.0039597367867827415, -0.01610884815454483, -0.014546262100338936, 0.01348086167126894, -0.02173416130244732, -0.031706303358078, -0.009751961566507816, -0.004705516621470451, 0.011314548552036285, 0.00396328791975975, -0.0075217243283987045, -0.010973620228469372, -0.015696894377470016, -0.007933679036796093, 0.01366553083062172, -0.02446158416569233, 0.024901950731873512, 0.026947518810629845, 0.012252100743353367, 0.025427546352148056, 0.01266405452042818, 0.019020941108465195, 0.011762016452848911, -0.014702520333230495, 0.004893737379461527, 0.01137136947363615, 0.01006447896361351, 0.013374322094023228, 0.01022073719650507, -0.024745691567659378, 0.008480584248900414, 0.02386496029794216, -0.0281691774725914, 0.075686015188694, 0.016321929171681404, -0.014489440247416496, -0.0023136937525123358, 0.008132553659379482, -0.02971755713224411, -0.12830257415771484, -0.005731852259486914, 0.008864128030836582, 0.021236974745988846, 0.015952588990330696, 0.016819115728139877, -0.014205333776772022, 0.0014347387477755547, -0.020739786326885223, 0.013566093519330025, -0.006985472980886698, -0.03801347315311432, 0.015228117816150188, 0.008814409375190735, 0.00044768996303901076, 0.00818227231502533, -0.01723106950521469, -0.01197509653866291, 0.011762016452848911, 0.03977493569254875, 0.0009499816806055605, 0.002247994067147374, 0.001790759852156043, -0.0013788051437586546, 0.0014347387477755547, -0.02153528667986393, -0.0008589787757955492, 0.031052859500050545, 0.044150177389383316, 0.023538237437605858, 0.009794577956199646, -0.013544785790145397, 0.030285771936178207, -0.04332626610994339, -0.011307445354759693, 0.01926243305206299, -0.021549491211771965, 0.011165392585098743, 0.02184780314564705, -0.02122276835143566, 0.003917120862752199, -0.0034891851246356964, 0.028922058641910553, -0.025740064680576324, 0.0025445304345339537, 0.009979247115552425, 0.0034820823930203915, 0.013750762678682804, 0.015625866129994392, -0.03500194102525711, -0.012394153513014317, -0.011513423174619675, -0.017032194882631302, -0.025427546352148056, 0.02406383492052555, -0.017444150522351265, 0.008785998448729515, 0.0035975007340312004, -0.018012363463640213, 0.0002000954409595579, -0.01082446426153183, -0.025768475607037544, -0.008089937269687653, 0.014382900670170784, -2.7356365535524674e-05, -0.014745136722922325, -0.01717424765229225, -0.007614058908075094, 0.01917720027267933, -0.019248226657509804, -0.0012403031578287482, 0.007834241725504398, -0.03309842571616173, 0.017955541610717773, -0.025853706523776054, -0.00018766577704809606, -0.03682022541761398, -0.005277281627058983, 0.03253021463751793, -0.006584172137081623, 0.00748621067032218, -0.02024259977042675, 0.013189652003347874, -0.052474502474069595, 0.03568379953503609, 0.006640993524342775, -0.009730653837323189, 0.005316345952451229, 0.003158911131322384, -0.03599631413817406, -0.0060266125947237015, 0.03335412219166756, 0.02305525727570057, 0.001082268892787397, 0.009396827779710293, 0.007358362898230553, -0.0061011905781924725, -0.004556360654532909, -0.004648695234209299, 0.010746334679424763, -0.0005353635060600936, -0.0034128313418477774, -0.0804021880030632, 0.01498662680387497, -0.0038780560716986656, 0.013708147220313549, 0.007699290756136179, 0.0020739787723869085, 0.022444427013397217, -0.036706581711769104, -0.013090214692056179, -0.007457800209522247, 0.0012269857106730342, 0.02808394469320774, -0.006605480331927538, 0.018623191863298416, -0.011712297797203064, 0.0008833942119963467, 0.020896045491099358, 0.01405617780983448, -0.0011319875484332442, 0.00038420988130383193, 0.0044746799394488335, 0.004915045574307442, 0.010419611819088459, 0.01428346335887909, -0.026478741317987442, 0.005277281627058983, -0.015483813360333443, 0.016151463612914085, -0.015654277056455612, -0.018211238086223602, 0.01022073719650507, -0.026393510401248932, 0.002089959802106023, 0.031308554112911224, -0.0026919108349829912, -0.007770317606627941, -0.026379304006695747, 0.006275206338614225, -0.014432619325816631, 0.00599465100094676, -0.016066232696175575, -0.022302374243736267, -0.006516696885228157, -0.01774246245622635, -0.009347109124064445, 0.021123331040143967, -0.033837106078863144, 0.016819115728139877, 0.002935177180916071, -0.00930449366569519, 0.012621439062058926, 0.0014018889050930738, -0.00868656113743782, -0.03190517798066139, -0.009773269295692444, -0.012628541328012943, 0.005582696292549372, 0.009524676017463207, 0.004804953932762146, -0.016151463612914085, 0.020796608179807663, 0.006456324364989996, 0.0074364920146763325, -0.016904346644878387, -0.003432363737374544, -0.005238216836005449, 0.004833364859223366, -0.002370515139773488, 0.015455403365194798, -0.007699290756136179, -0.02305525727570057, -0.0011337632313370705, 0.0062681036069989204, 0.005927175283432007, 0.006530902348458767, 0.017927130684256554, -0.006285860203206539, 0.0021414540242403746, -0.026166224852204323, -0.0022639750968664885, 0.001218995195813477, -0.014162717387080193, -0.010788951069116592, 0.01768564060330391, 0.01869421824812889, 0.010511946864426136, 0.0015208584954962134, -0.0020455680787563324, 0.009908219799399376, 0.005852597299963236, 0.0018768797162920237, 0.0150292431935668, 0.008835717104375362, -0.006495388690382242, 0.012017711997032166, 0.011300343088805676, -0.01066820602864027, -0.009666729718446732, 0.0038567481096833944, 0.02136482112109661, -0.01419823057949543, -0.020512502640485764, 0.02713218703866005, -0.01593838445842266, -0.0013788051437586546, 0.016918553039431572, -0.02555539458990097, -0.019859056919813156, -0.014276360161602497, 0.02108071558177471, 0.025342315435409546, -0.005820635240525007, 0.0121739711612463, 0.015142885968089104, -0.02251545339822769, 0.01463149394840002, 0.02518605627119541, -0.009624113328754902, -0.04045679047703743, 0.04517295956611633, 0.03505876287817955, 0.0031482570338994265, 0.02395019307732582, 0.012834519147872925, 0.014233744703233242, 0.02184780314564705, 0.012124252505600452, -0.004826262127608061, -0.012820313684642315, 0.014375797472894192, 0.004780094604939222, -0.012649849988520145, -0.036621350795030594, 0.008849922567605972, -0.028154971078038216, 0.002464625285938382, -0.007006780710071325, 0.020512502640485764, -0.023183103650808334, 0.041990965604782104, -0.00046522467164322734, -0.018509550020098686, 0.003190872957929969, -0.0093186991289258, 0.020143162459135056, 0.002473503816872835, 0.01582474261522293, -0.017472559586167336, 0.0038105808198451996, 0.003799926722422242, -0.02839646115899086, 0.010156814008951187, 0.007493313401937485, -0.0360531359910965, -0.01841011270880699, -0.025967350229620934, 0.023495621979236603, -0.00608698558062315, -0.0020047277212142944, 0.008018910884857178, -0.0007839568424969912, 0.02375131845474243, 0.0005016258219256997, -0.019773824140429497, -0.01198930200189352, 0.033496174961328506, 0.008594227023422718, 0.002615557052195072, -0.004137303214520216, 0.02049829624593258, 0.005639517679810524, -0.04880952462553978, -0.01366553083062172, 0.039291951805353165, -0.014375797472894192, -0.008672356605529785, -0.022700123488903046, -0.008814409375190735, 0.02032783254981041, -0.019717002287507057, 0.020611939951777458, -0.021208563819527626, -0.03181994706392288, 0.02187621407210827, 0.028382256627082825, -0.01086708065122366, 0.0028446181677281857, -0.018481139093637466], index=0, object='embedding')], model='text-embedding-ada-002', object='list', usage=Usage(prompt_tokens=1, total_tokens=1))\n"
          ]
        }
      ],
      "source": [
        "response = get_embeddings(\"hero\",\"text-embedding-ada-002\")\n",
        "hero_embeddings = response.data[0].embedding\n",
        "print(response)"
      ]
    },
    {
      "cell_type": "code",
      "execution_count": null,
      "id": "3eacf86d",
      "metadata": {
        "id": "3eacf86d",
        "outputId": "e8dbb4d1-d4e5-4c2b-a89a-398d5825a7e7"
      },
      "outputs": [
        {
          "name": "stdout",
          "output_type": "stream",
          "text": [
            "Cosine Similarity: 0.7829414235083916\n"
          ]
        }
      ],
      "source": [
        "print(\"Cosine Similarity:\", compute_cosine_similarity(computer_embeddings, hero_embeddings))"
      ]
    },
    {
      "cell_type": "markdown",
      "source": [
        "# Embedding for sentences"
      ],
      "metadata": {
        "id": "6IfRiS20WYv2"
      },
      "id": "6IfRiS20WYv2"
    },
    {
      "cell_type": "markdown",
      "source": [
        "### Determine textual entailment for similar sentences"
      ],
      "metadata": {
        "id": "jeSKk-HbWUFN"
      },
      "id": "jeSKk-HbWUFN"
    },
    {
      "cell_type": "code",
      "execution_count": null,
      "metadata": {
        "id": "FXCbB6OEWg0w"
      },
      "outputs": [],
      "source": [
        "text_premise = '''\n",
        "                The astronaut completed her spacewalk outside\n",
        "                the International Space Station.\n",
        "               '''\n",
        "text_hypothesis = \"The spacewalk occurred in space.\"\n",
        "\n",
        "sentences = [text_premise, text_hypothesis]\n",
        "\n",
        "response = get_embeddings(sentences,\"text-embedding-ada-002\")"
      ],
      "id": "FXCbB6OEWg0w"
    },
    {
      "cell_type": "markdown",
      "source": [
        "# Text clustering"
      ],
      "metadata": {
        "id": "BKqmtz35XObD"
      },
      "id": "BKqmtz35XObD"
    },
    {
      "cell_type": "markdown",
      "source": [
        "**Text clustering** is a technique used in natural language processing (NLP) and text mining to group a set of documents or text data into clusters based on their similarity. The main goal is to organize large amounts of unstructured text data into meaningful clusters, making it easier to understand, analyze, and extract insights. Here are some common applications and uses of text clustering:\n",
        "\n",
        "1. **Document Organization and Management**:\n",
        "   - Automatically organizing documents into categories or topics.\n",
        "   - Simplifying the process of finding and retrieving documents on similar topics.\n",
        "\n",
        "2. **Topic Discovery and Modeling**:\n",
        "   - Identifying underlying themes or topics within a large corpus of text.\n",
        "   - Understanding the main subjects discussed in a set of documents.\n",
        "\n",
        "3. **Search Optimization**:\n",
        "   - Enhancing search engines by grouping similar search results together.\n",
        "   - Providing users with more relevant and organized search results.\n",
        "\n",
        "4. **Customer Feedback Analysis**:\n",
        "   - Analyzing customer reviews, feedback, or survey responses by clustering similar comments.\n",
        "   - Identifying common issues, themes, or sentiments expressed by customers.\n",
        "\n",
        "5. **Social Media Analysis**:\n",
        "   - Grouping similar posts, tweets, or comments to understand trends and public opinion.\n",
        "   - Identifying and tracking emerging topics or events on social media platforms.\n",
        "\n",
        "6. **Recommendation Systems**:\n",
        "   - Improving recommendation systems by clustering user-generated content.\n",
        "   - Suggesting similar articles, products, or services based on text similarity.\n",
        "\n",
        "7. **Spam Detection and Filtering**:\n",
        "   - Grouping similar spam messages to improve filtering algorithms.\n",
        "   - Identifying patterns in spam content to enhance detection methods.\n",
        "\n",
        "8. **Market Research and Competitive Analysis**:\n",
        "   - Clustering text data from market research reports, news articles, or competitor analysis.\n",
        "   - Extracting insights about industry trends, market dynamics, and competitive strategies.\n",
        "\n",
        "9. **Healthcare and Biomedical Research**:\n",
        "   - Analyzing and clustering medical records, research papers, or clinical trial data.\n",
        "   - Identifying patterns in patient symptoms, treatment outcomes, or biomedical literature.\n",
        "\n",
        "10. **Sentiment Analysis**:\n",
        "    - Grouping text based on sentiment to understand overall positive, negative, or neutral trends.\n",
        "    - Analyzing customer sentiment towards products, brands, or services.\n",
        "\n",
        "Text clustering helps to reduce the complexity of analyzing large volumes of text data, enabling more efficient and effective extraction of useful information and insights."
      ],
      "metadata": {
        "id": "P1r873VnXejT"
      },
      "id": "P1r873VnXejT"
    },
    {
      "cell_type": "markdown",
      "metadata": {
        "id": "522e65fc"
      },
      "source": [
        "### Cluster similar words"
      ],
      "id": "522e65fc"
    },
    {
      "cell_type": "code",
      "execution_count": null,
      "metadata": {
        "id": "6f4d68cf"
      },
      "outputs": [],
      "source": [
        "from sklearn.cluster import KMeans\n",
        "\n",
        "# Words to cluster\n",
        "words = ['apple', 'banana', 'car', 'bike', 'grape', 'truck']\n",
        "\n",
        "response = client.embeddings.create(\n",
        "            input= words,\n",
        "            model= \"text-embedding-ada-002\")"
      ],
      "id": "6f4d68cf"
    },
    {
      "cell_type": "code",
      "execution_count": null,
      "metadata": {
        "id": "4e14ea90"
      },
      "outputs": [],
      "source": [
        "embeddings = []\n",
        "\n",
        "for i, embedding in enumerate(words):\n",
        "    embeddings.append(response.data[i].embedding)"
      ],
      "id": "4e14ea90"
    },
    {
      "cell_type": "code",
      "execution_count": null,
      "metadata": {
        "id": "0bc4294c"
      },
      "outputs": [],
      "source": [
        "# Apply KMeans clustering\n",
        "\n",
        "#number of clusters based on the number of categories: fruit and vehicle\n",
        "k = 2\n",
        "\n",
        "#randmo_state = 0 makes our results reproducible.\n",
        "#n_init = number of times the k-means algorithm is run\n",
        "kmeans = KMeans(n_clusters=k, random_state=0, n_init=10).fit(embeddings)\n",
        "labels = kmeans.labels_"
      ],
      "id": "0bc4294c"
    },
    {
      "cell_type": "code",
      "execution_count": null,
      "metadata": {
        "id": "1cd465b6",
        "outputId": "bd6ecab5-e657-4d51-d4d2-f708968bf4b5"
      },
      "outputs": [
        {
          "name": "stdout",
          "output_type": "stream",
          "text": [
            "apple: Cluster 1\n",
            "banana: Cluster 1\n",
            "car: Cluster 0\n",
            "bike: Cluster 0\n",
            "grape: Cluster 1\n",
            "truck: Cluster 0\n"
          ]
        }
      ],
      "source": [
        "# Print the clusters\n",
        "for label, word in zip(labels, words):\n",
        "    print(f\"{word}: Cluster {label}\")"
      ],
      "id": "1cd465b6"
    },
    {
      "cell_type": "markdown",
      "metadata": {
        "id": "XkjzCgezWkYb"
      },
      "source": [
        "### Compare the vectors\n",
        "\n",
        "#### Vectors need to be the same length for the comparison"
      ],
      "id": "XkjzCgezWkYb"
    },
    {
      "cell_type": "code",
      "execution_count": null,
      "metadata": {
        "outputId": "5153c92d-2292-42ea-daa1-5e7285d9618a",
        "id": "F7EbBIVzWmrX"
      },
      "outputs": [
        {
          "data": {
            "text/plain": [
              "1536"
            ]
          },
          "execution_count": 14,
          "metadata": {},
          "output_type": "execute_result"
        }
      ],
      "source": [
        "len(response.data[0].embedding)"
      ],
      "id": "F7EbBIVzWmrX"
    },
    {
      "cell_type": "code",
      "execution_count": null,
      "metadata": {
        "outputId": "ba56ece6-10a9-47b6-aca3-b1a6cf3da580",
        "id": "YKxTJRm3Wqbm"
      },
      "outputs": [
        {
          "data": {
            "text/plain": [
              "1536"
            ]
          },
          "execution_count": 15,
          "metadata": {},
          "output_type": "execute_result"
        }
      ],
      "source": [
        "len(response.data[1].embedding)"
      ],
      "id": "YKxTJRm3Wqbm"
    },
    {
      "cell_type": "markdown",
      "metadata": {
        "id": "HbEVBFxwWqb0"
      },
      "source": [
        "#### Cosine similarity is a measure of similarity between two non-zero vectors. The value can be between 0 and 1; the closer the value is to 1, the more similar the vectors are."
      ],
      "id": "HbEVBFxwWqb0"
    },
    {
      "cell_type": "code",
      "execution_count": null,
      "metadata": {
        "outputId": "831032e5-e4ac-4d7c-80aa-8c8c3165bd9a",
        "id": "djwALOVyWqb0"
      },
      "outputs": [
        {
          "name": "stdout",
          "output_type": "stream",
          "text": [
            "Cosine Similarity: 0.9000503698739672\n"
          ]
        }
      ],
      "source": [
        "cosine = compute_cosine_similarity(response.data[0].embedding, response.data[1].embedding)\n",
        "print(\"Cosine Similarity:\", cosine)"
      ],
      "id": "djwALOVyWqb0"
    },
    {
      "cell_type": "markdown",
      "metadata": {
        "id": "38db7622"
      },
      "source": [
        "### Determine textual entailment for dissimilar sentences"
      ],
      "id": "38db7622"
    },
    {
      "cell_type": "code",
      "execution_count": null,
      "metadata": {
        "id": "36752537"
      },
      "outputs": [],
      "source": [
        "text_premise = \"A group of students is studying in the library.\"\n",
        "text_hypothesis = \"It is raining outside.\"\n",
        "\n",
        "sentences = [text_premise, text_hypothesis]\n",
        "\n",
        "response = get_embeddings(sentences,\"text-embedding-ada-002\")"
      ],
      "id": "36752537"
    },
    {
      "cell_type": "code",
      "execution_count": null,
      "metadata": {
        "id": "a531e364",
        "outputId": "e95c0366-b7df-46df-ba8a-54eff8b43644"
      },
      "outputs": [
        {
          "data": {
            "text/plain": [
              "1536"
            ]
          },
          "execution_count": 18,
          "metadata": {},
          "output_type": "execute_result"
        }
      ],
      "source": [
        "len(response.data[0].embedding)"
      ],
      "id": "a531e364"
    },
    {
      "cell_type": "code",
      "execution_count": null,
      "metadata": {
        "id": "62fd3562",
        "outputId": "a5f73d4a-ffe6-43de-eb03-4822198a5f0d"
      },
      "outputs": [
        {
          "data": {
            "text/plain": [
              "1536"
            ]
          },
          "execution_count": 19,
          "metadata": {},
          "output_type": "execute_result"
        }
      ],
      "source": [
        "len(response.data[1].embedding)"
      ],
      "id": "62fd3562"
    },
    {
      "cell_type": "code",
      "execution_count": null,
      "metadata": {
        "id": "b631e075",
        "outputId": "32e0881e-e5a9-4c81-bf40-ca8ecf04751e"
      },
      "outputs": [
        {
          "name": "stdout",
          "output_type": "stream",
          "text": [
            "Cosine Similarity: 0.7909503880133563\n"
          ]
        }
      ],
      "source": [
        "print(\"Cosine Similarity:\", compute_cosine_similarity(response.data[0].embedding,\n",
        "                                                      response.data[1].embedding))"
      ],
      "id": "b631e075"
    }
  ],
  "metadata": {
    "kernelspec": {
      "display_name": "Python 3 (ipykernel)",
      "language": "python",
      "name": "python3"
    },
    "language_info": {
      "codemirror_mode": {
        "name": "ipython",
        "version": 3
      },
      "file_extension": ".py",
      "mimetype": "text/x-python",
      "name": "python",
      "nbconvert_exporter": "python",
      "pygments_lexer": "ipython3",
      "version": "3.10.13"
    },
    "colab": {
      "provenance": [],
      "toc_visible": true
    }
  },
  "nbformat": 4,
  "nbformat_minor": 5
}